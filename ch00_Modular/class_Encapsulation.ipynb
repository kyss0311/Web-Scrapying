{
 "cells": [
  {
   "cell_type": "code",
   "execution_count": 1,
   "id": "dd4595aa-9b0b-4647-b0bd-30a7ad27887a",
   "metadata": {},
   "outputs": [],
   "source": [
    "class Product():\n",
    "    def __init__(self, name, price, category):\n",
    "        self.name = name\n",
    "        self.__price = 0\n",
    "        self.__category = category\n",
    "        self.__set_price(price)\n",
    "    def __set_price(self, new_price):\n",
    "        self.__price = new_price if new_price > 0 else 99\n",
    "    def get_price(self):\n",
    "        return self.__price"
   ]
  },
  {
   "cell_type": "code",
   "execution_count": 5,
   "id": "3371ce94-58f4-42d9-8ec1-92b6489ea075",
   "metadata": {},
   "outputs": [],
   "source": [
    "myphone = Product('phone', 22000, 'smart phone')"
   ]
  },
  {
   "cell_type": "code",
   "execution_count": 7,
   "id": "b82fa445-1701-491d-9cf9-5f1f9258357e",
   "metadata": {},
   "outputs": [
    {
     "data": {
      "text/plain": [
       "'phone'"
      ]
     },
     "execution_count": 7,
     "metadata": {},
     "output_type": "execute_result"
    }
   ],
   "source": [
    "myphone.name"
   ]
  },
  {
   "cell_type": "code",
   "execution_count": 11,
   "id": "19598e3f-91c8-4739-8d61-075ba8e39e19",
   "metadata": {},
   "outputs": [
    {
     "data": {
      "text/plain": [
       "22000"
      ]
     },
     "execution_count": 11,
     "metadata": {},
     "output_type": "execute_result"
    }
   ],
   "source": [
    "myphone.get_price()"
   ]
  },
  {
   "cell_type": "code",
   "execution_count": 13,
   "id": "d05a7946-26c8-42be-9ea0-f6028035666d",
   "metadata": {},
   "outputs": [
    {
     "ename": "AttributeError",
     "evalue": "'Product' object has no attribute '__price'",
     "output_type": "error",
     "traceback": [
      "\u001b[1;31m---------------------------------------------------------------------------\u001b[0m",
      "\u001b[1;31mAttributeError\u001b[0m                            Traceback (most recent call last)",
      "Cell \u001b[1;32mIn[13], line 1\u001b[0m\n\u001b[1;32m----> 1\u001b[0m myphone\u001b[38;5;241m.\u001b[39m__price\n",
      "\u001b[1;31mAttributeError\u001b[0m: 'Product' object has no attribute '__price'"
     ]
    }
   ],
   "source": [
    "myphone.__price  #無法取的私有化屬性"
   ]
  },
  {
   "cell_type": "code",
   "execution_count": 17,
   "id": "173b9e29-7fbc-42f1-b134-689ac4716c23",
   "metadata": {},
   "outputs": [
    {
     "ename": "AttributeError",
     "evalue": "'Product' object has no attribute '__set_price'",
     "output_type": "error",
     "traceback": [
      "\u001b[1;31m---------------------------------------------------------------------------\u001b[0m",
      "\u001b[1;31mAttributeError\u001b[0m                            Traceback (most recent call last)",
      "Cell \u001b[1;32mIn[17], line 1\u001b[0m\n\u001b[1;32m----> 1\u001b[0m myphone\u001b[38;5;241m.\u001b[39m__set_price(\u001b[38;5;241m21000\u001b[39m)\n",
      "\u001b[1;31mAttributeError\u001b[0m: 'Product' object has no attribute '__set_price'"
     ]
    }
   ],
   "source": [
    "myphone.__set_price(21000)  #無法取的私有化屬性"
   ]
  },
  {
   "cell_type": "code",
   "execution_count": 32,
   "id": "58a31a8d-b630-4572-8c5b-a9c6fe2c45be",
   "metadata": {
    "scrolled": true
   },
   "outputs": [
    {
     "data": {
      "text/plain": [
       "['_Product__category',\n",
       " '_Product__price',\n",
       " '_Product__set_price',\n",
       " '__class__',\n",
       " '__delattr__',\n",
       " '__dict__',\n",
       " '__dir__',\n",
       " '__doc__',\n",
       " '__eq__',\n",
       " '__format__',\n",
       " '__ge__',\n",
       " '__getattribute__',\n",
       " '__getstate__',\n",
       " '__gt__',\n",
       " '__hash__',\n",
       " '__init__',\n",
       " '__init_subclass__',\n",
       " '__le__',\n",
       " '__lt__',\n",
       " '__module__',\n",
       " '__ne__',\n",
       " '__new__',\n",
       " '__reduce__',\n",
       " '__reduce_ex__',\n",
       " '__repr__',\n",
       " '__setattr__',\n",
       " '__sizeof__',\n",
       " '__str__',\n",
       " '__subclasshook__',\n",
       " '__weakref__',\n",
       " 'get_price',\n",
       " 'name']"
      ]
     },
     "execution_count": 32,
     "metadata": {},
     "output_type": "execute_result"
    }
   ],
   "source": [
    "dir(myphone)   #但是還是能透過dir找到相關的方法去更改  python沒辦法做到完全私有化"
   ]
  },
  {
   "cell_type": "code",
   "execution_count": 34,
   "id": "e1190ab6-9729-4fc7-887f-23216caa0bd2",
   "metadata": {},
   "outputs": [
    {
     "data": {
      "text/plain": [
       "20000"
      ]
     },
     "execution_count": 34,
     "metadata": {},
     "output_type": "execute_result"
    }
   ],
   "source": [
    "myphone._Product__price"
   ]
  },
  {
   "cell_type": "code",
   "execution_count": 36,
   "id": "a93395a2-c202-4ec6-ba25-0c0e4da9118e",
   "metadata": {},
   "outputs": [],
   "source": [
    "myphone._Product__set_price(21000)"
   ]
  },
  {
   "cell_type": "code",
   "execution_count": 38,
   "id": "639c1683-bc66-4bc5-8067-ca3fa286391e",
   "metadata": {},
   "outputs": [
    {
     "data": {
      "text/plain": [
       "21000"
      ]
     },
     "execution_count": 38,
     "metadata": {},
     "output_type": "execute_result"
    }
   ],
   "source": [
    "myphone._Product__price"
   ]
  },
  {
   "cell_type": "code",
   "execution_count": 40,
   "id": "a7a8d771-213f-4b2f-a026-dd433896f19f",
   "metadata": {},
   "outputs": [],
   "source": [
    "myphone._Product__price = 20000"
   ]
  },
  {
   "cell_type": "code",
   "execution_count": 42,
   "id": "23643eab-7246-466f-89cb-04b41c59697e",
   "metadata": {},
   "outputs": [
    {
     "data": {
      "text/plain": [
       "20000"
      ]
     },
     "execution_count": 42,
     "metadata": {},
     "output_type": "execute_result"
    }
   ],
   "source": [
    "myphone._Product__price"
   ]
  },
  {
   "cell_type": "code",
   "execution_count": null,
   "id": "93754dbd-44f8-4b2c-8882-42d59f7ee1e9",
   "metadata": {},
   "outputs": [],
   "source": []
  }
 ],
 "metadata": {
  "kernelspec": {
   "display_name": "Python 3 (ipykernel)",
   "language": "python",
   "name": "python3"
  },
  "language_info": {
   "codemirror_mode": {
    "name": "ipython",
    "version": 3
   },
   "file_extension": ".py",
   "mimetype": "text/x-python",
   "name": "python",
   "nbconvert_exporter": "python",
   "pygments_lexer": "ipython3",
   "version": "3.12.4"
  }
 },
 "nbformat": 4,
 "nbformat_minor": 5
}
