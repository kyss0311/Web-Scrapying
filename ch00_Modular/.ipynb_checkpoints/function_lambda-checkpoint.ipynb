{
 "cells": [
  {
   "cell_type": "code",
   "execution_count": 17,
   "id": "d77f554c-bc5c-46ca-a597-16938e6d4e2f",
   "metadata": {},
   "outputs": [
    {
     "data": {
      "text/plain": [
       "[{'name': 'Cathy', 'Math': 90, 'Eng': 70},\n",
       " {'name': 'Dave', 'Math': 89, 'Eng': 67},\n",
       " {'name': 'Jessie', 'Math': 78, 'Eng': 92}]"
      ]
     },
     "execution_count": 17,
     "metadata": {},
     "output_type": "execute_result"
    }
   ],
   "source": [
    "students = [\n",
    "    {'name': 'Cathy', 'Math': 90, 'Eng': 70},\n",
    "    {'name': 'Dave', 'Math': 89, 'Eng': 67},\n",
    "    {'name': 'Jessie', 'Math': 78, 'Eng': 92}\n",
    "]\n",
    "def getKey(d):\n",
    "    return d['Math']\n",
    "sorted(students, key = getKey, reverse =True)"
   ]
  },
  {
   "cell_type": "code",
   "execution_count": 19,
   "id": "7cfc24b3-be07-4fea-bd79-98c949c6d29b",
   "metadata": {},
   "outputs": [
    {
     "data": {
      "text/plain": [
       "[{'name': 'Jessie', 'Math': 78, 'Eng': 92},\n",
       " {'name': 'Cathy', 'Math': 90, 'Eng': 70},\n",
       " {'name': 'Dave', 'Math': 89, 'Eng': 67}]"
      ]
     },
     "execution_count": 19,
     "metadata": {},
     "output_type": "execute_result"
    }
   ],
   "source": [
    "students = [\n",
    "    {'name': 'Cathy', 'Math': 90, 'Eng': 70},\n",
    "    {'name': 'Dave', 'Math': 89, 'Eng': 67},\n",
    "    {'name': 'Jessie', 'Math': 78, 'Eng': 92}\n",
    "]\n",
    "sorted(students, key = lambda d: d['Math'] + d['Eng'], reverse =True)"
   ]
  },
  {
   "cell_type": "code",
   "execution_count": null,
   "id": "a6ae5649-2703-4f61-95f7-79a5c08a32af",
   "metadata": {},
   "outputs": [],
   "source": []
  },
  {
   "cell_type": "code",
   "execution_count": null,
   "id": "c15f8332-5cf6-41a4-aedf-d0bd0dd7d684",
   "metadata": {},
   "outputs": [],
   "source": []
  }
 ],
 "metadata": {
  "kernelspec": {
   "display_name": "Python 3 (ipykernel)",
   "language": "python",
   "name": "python3"
  },
  "language_info": {
   "codemirror_mode": {
    "name": "ipython",
    "version": 3
   },
   "file_extension": ".py",
   "mimetype": "text/x-python",
   "name": "python",
   "nbconvert_exporter": "python",
   "pygments_lexer": "ipython3",
   "version": "3.12.4"
  }
 },
 "nbformat": 4,
 "nbformat_minor": 5
}
