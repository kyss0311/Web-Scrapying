{
 "cells": [
  {
   "cell_type": "code",
   "execution_count": 1,
   "id": "be506f07-b4f4-48df-a83a-fc7481179bbd",
   "metadata": {},
   "outputs": [],
   "source": [
    "class SimpleAdd():\n",
    "    def add(self, a, b):\n",
    "        return a + b\n",
    "\n",
    "class ExtendAdd(SimpleAdd):\n",
    "    def add(self, *args):\n",
    "        return sum(args)"
   ]
  },
  {
   "cell_type": "code",
   "execution_count": 3,
   "id": "ee9e435b-70ec-4ba6-b3fb-ea91c7065067",
   "metadata": {},
   "outputs": [],
   "source": [
    "sa = SimpleAdd()\n",
    "ea = ExtendAdd()"
   ]
  },
  {
   "cell_type": "code",
   "execution_count": 21,
   "id": "fc0140c8-7922-4aa9-b68c-0b56c7751237",
   "metadata": {},
   "outputs": [
    {
     "data": {
      "text/plain": [
       "28"
      ]
     },
     "execution_count": 21,
     "metadata": {},
     "output_type": "execute_result"
    }
   ],
   "source": [
    "ea.add(2,5,6,7,8)"
   ]
  },
  {
   "cell_type": "code",
   "execution_count": 23,
   "id": "1d964842-3e70-41e2-9857-cc4555e2dbca",
   "metadata": {},
   "outputs": [
    {
     "data": {
      "text/plain": [
       "15"
      ]
     },
     "execution_count": 23,
     "metadata": {},
     "output_type": "execute_result"
    }
   ],
   "source": [
    "sa.add(7,8)"
   ]
  },
  {
   "cell_type": "code",
   "execution_count": 25,
   "id": "701713d3-b580-4a12-8cd4-8536f14ec887",
   "metadata": {
    "scrolled": true
   },
   "outputs": [
    {
     "data": {
      "text/plain": [
       "['__class__',\n",
       " '__delattr__',\n",
       " '__dict__',\n",
       " '__dir__',\n",
       " '__doc__',\n",
       " '__eq__',\n",
       " '__format__',\n",
       " '__ge__',\n",
       " '__getattribute__',\n",
       " '__getstate__',\n",
       " '__gt__',\n",
       " '__hash__',\n",
       " '__init__',\n",
       " '__init_subclass__',\n",
       " '__le__',\n",
       " '__lt__',\n",
       " '__module__',\n",
       " '__ne__',\n",
       " '__new__',\n",
       " '__reduce__',\n",
       " '__reduce_ex__',\n",
       " '__repr__',\n",
       " '__setattr__',\n",
       " '__sizeof__',\n",
       " '__str__',\n",
       " '__subclasshook__',\n",
       " '__weakref__',\n",
       " 'add']"
      ]
     },
     "execution_count": 25,
     "metadata": {},
     "output_type": "execute_result"
    }
   ],
   "source": [
    "dir(sa)  #檢視方法屬性"
   ]
  },
  {
   "cell_type": "code",
   "execution_count": 46,
   "id": "082e786a-cdb4-4dba-8bef-565942cd89c2",
   "metadata": {},
   "outputs": [
    {
     "name": "stdout",
     "output_type": "stream",
     "text": [
      "True\n"
     ]
    }
   ],
   "source": [
    "print(issubclass(ExtendAdd, SimpleAdd))   #判斷ExtentAdd是否為SimpleAdd的子類別"
   ]
  },
  {
   "cell_type": "code",
   "execution_count": 48,
   "id": "1e350f8f-196b-4b1b-a813-faee7550e0da",
   "metadata": {
    "scrolled": true
   },
   "outputs": [
    {
     "data": {
      "text/plain": [
       "{'__class__',\n",
       " '__class_getitem__',\n",
       " '__contains__',\n",
       " '__delattr__',\n",
       " '__dir__',\n",
       " '__doc__',\n",
       " '__eq__',\n",
       " '__format__',\n",
       " '__ge__',\n",
       " '__getattribute__',\n",
       " '__getstate__',\n",
       " '__gt__',\n",
       " '__hash__',\n",
       " '__init__',\n",
       " '__init_subclass__',\n",
       " '__ior__',\n",
       " '__iter__',\n",
       " '__le__',\n",
       " '__len__',\n",
       " '__lt__',\n",
       " '__ne__',\n",
       " '__new__',\n",
       " '__or__',\n",
       " '__reduce__',\n",
       " '__reduce_ex__',\n",
       " '__repr__',\n",
       " '__ror__',\n",
       " '__setattr__',\n",
       " '__sizeof__',\n",
       " '__str__',\n",
       " '__subclasshook__',\n",
       " 'clear',\n",
       " 'copy',\n",
       " 'pop',\n",
       " 'update'}"
      ]
     },
     "execution_count": 48,
     "metadata": {},
     "output_type": "execute_result"
    }
   ],
   "source": [
    "set(dir(dict)) & set(dir(set))  #檢視 dict & set的共同方法屬性"
   ]
  },
  {
   "cell_type": "code",
   "execution_count": null,
   "id": "5c7b18eb-bb51-4974-978f-716120ddd97d",
   "metadata": {},
   "outputs": [],
   "source": []
  }
 ],
 "metadata": {
  "kernelspec": {
   "display_name": "Python 3 (ipykernel)",
   "language": "python",
   "name": "python3"
  },
  "language_info": {
   "codemirror_mode": {
    "name": "ipython",
    "version": 3
   },
   "file_extension": ".py",
   "mimetype": "text/x-python",
   "name": "python",
   "nbconvert_exporter": "python",
   "pygments_lexer": "ipython3",
   "version": "3.12.4"
  }
 },
 "nbformat": 4,
 "nbformat_minor": 5
}
