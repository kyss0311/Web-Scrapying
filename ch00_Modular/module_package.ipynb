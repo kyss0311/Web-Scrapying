{
 "cells": [
  {
   "cell_type": "code",
   "execution_count": 31,
   "id": "24f7b922-3824-4c30-94be-b2d2f5f78fac",
   "metadata": {},
   "outputs": [],
   "source": [
    "import main_package.ex_1 as ex1\n",
    "#from main_package import ex_1 as ex1"
   ]
  },
  {
   "cell_type": "code",
   "execution_count": 32,
   "id": "5d370711-79c5-4615-8d2b-e00723bc772b",
   "metadata": {},
   "outputs": [
    {
     "data": {
      "text/plain": [
       "<module 'main_package.ex_1' from 'D:\\\\pys_ntu\\\\Modular\\\\main_package\\\\ex_1.py'>"
      ]
     },
     "execution_count": 32,
     "metadata": {},
     "output_type": "execute_result"
    }
   ],
   "source": [
    "ex1"
   ]
  },
  {
   "cell_type": "code",
   "execution_count": 33,
   "id": "70532581-979b-4b00-9ca8-3c2e4d0dc744",
   "metadata": {},
   "outputs": [
    {
     "name": "stdout",
     "output_type": "stream",
     "text": [
      "ex_1\n"
     ]
    }
   ],
   "source": [
    "ex1.hello()"
   ]
  },
  {
   "cell_type": "code",
   "execution_count": 37,
   "id": "54fa3f2a-26ab-465e-ba5f-df9197521cec",
   "metadata": {},
   "outputs": [],
   "source": [
    "import main_package.sub_package_A.exA_1 as exA1"
   ]
  },
  {
   "cell_type": "code",
   "execution_count": 39,
   "id": "06a66144-d0be-457e-8de4-11e1dc974ba3",
   "metadata": {},
   "outputs": [
    {
     "name": "stdout",
     "output_type": "stream",
     "text": [
      "exA_1\n"
     ]
    }
   ],
   "source": [
    "exA1.hello()"
   ]
  },
  {
   "cell_type": "code",
   "execution_count": 41,
   "id": "8205dbd2-67f7-4417-b691-e4dba1c5ed53",
   "metadata": {},
   "outputs": [],
   "source": [
    "from main_package import *"
   ]
  },
  {
   "cell_type": "code",
   "execution_count": 43,
   "id": "c0e2225c-066a-4228-99be-7aeeb094240f",
   "metadata": {},
   "outputs": [
    {
     "name": "stdout",
     "output_type": "stream",
     "text": [
      "ex_1\n"
     ]
    }
   ],
   "source": [
    "ex_1.hello()"
   ]
  },
  {
   "cell_type": "code",
   "execution_count": 47,
   "id": "c64b76ec-ac26-44bd-9cc1-e056ca271dc1",
   "metadata": {},
   "outputs": [
    {
     "name": "stdout",
     "output_type": "stream",
     "text": [
      "exA_1\n"
     ]
    }
   ],
   "source": [
    "sub_package_A.exA_1.hello()"
   ]
  },
  {
   "cell_type": "code",
   "execution_count": null,
   "id": "5f4f4bbf-c6ae-423c-8528-c2ca519fbbf4",
   "metadata": {},
   "outputs": [],
   "source": []
  }
 ],
 "metadata": {
  "kernelspec": {
   "display_name": "Python 3 (ipykernel)",
   "language": "python",
   "name": "python3"
  },
  "language_info": {
   "codemirror_mode": {
    "name": "ipython",
    "version": 3
   },
   "file_extension": ".py",
   "mimetype": "text/x-python",
   "name": "python",
   "nbconvert_exporter": "python",
   "pygments_lexer": "ipython3",
   "version": "3.12.4"
  }
 },
 "nbformat": 4,
 "nbformat_minor": 5
}
