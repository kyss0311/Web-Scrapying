{
 "cells": [
  {
   "cell_type": "markdown",
   "id": "fced1e93-7ef9-4b45-b50a-3d88bdf00e6c",
   "metadata": {},
   "source": [
    "### 載入模組"
   ]
  },
  {
   "cell_type": "code",
   "execution_count": 70,
   "id": "7b92de9c-96f5-4bed-a18b-ef600e77220f",
   "metadata": {},
   "outputs": [
    {
     "data": {
      "text/plain": [
       "'D:\\\\pys_ntu\\\\ch03_selenium\\\\133\\\\chromedriver.exe'"
      ]
     },
     "execution_count": 70,
     "metadata": {},
     "output_type": "execute_result"
    }
   ],
   "source": [
    "from selenium import webdriver\n",
    "import chromedriver_autoinstaller\n",
    "from selenium.webdriver.common.by import By\n",
    "from pyquery import PyQuery as pq\n",
    "\n",
    "from selenium.webdriver.support.ui import WebDriverWait\n",
    "from time import sleep\n",
    "\n",
    "from selenium.webdriver.common.action_chains import ActionChains\n",
    "from selenium.webdriver.common.keys import Keys\n",
    "\n",
    "from random import randint, choice\n",
    "\n",
    "chromedriver_autoinstaller.install(cwd=True)  #cwd = True 下載至當前資料夾"
   ]
  },
  {
   "cell_type": "markdown",
   "id": "12d2b048-467f-4d7e-a419-ed83682c2ee3",
   "metadata": {},
   "source": [
    "### 連結瀏覽器"
   ]
  },
  {
   "cell_type": "code",
   "execution_count": 3,
   "id": "cdcc074e-0506-4cbf-8d35-cf5a7230ed30",
   "metadata": {},
   "outputs": [],
   "source": [
    "driver = webdriver.Chrome()\n",
    "driver.get(\"https://www.google.com.tw/maps\")"
   ]
  },
  {
   "cell_type": "markdown",
   "id": "72bc3212-4b1f-4c55-88e7-43a03350701a",
   "metadata": {},
   "source": [
    "#### 點擊"
   ]
  },
  {
   "cell_type": "code",
   "execution_count": 22,
   "id": "4a9db1a6-112e-4a88-badb-12a72ef3b69f",
   "metadata": {},
   "outputs": [],
   "source": [
    "zoom_in = driver.find_element(By.CSS_SELECTOR,\"#widget-zoom-in\")\n",
    "zoom_in.click()"
   ]
  },
  {
   "cell_type": "code",
   "execution_count": 24,
   "id": "a7fe9883-c5fc-40f7-8438-1b2289ede03f",
   "metadata": {},
   "outputs": [],
   "source": [
    "zoom_out = driver.find_element(By.CSS_SELECTOR,\"#widget-zoom-out\")\n",
    "zoom_out.click()"
   ]
  },
  {
   "cell_type": "code",
   "execution_count": 30,
   "id": "2c086c45-af63-48b1-a953-b3c3e019a55e",
   "metadata": {},
   "outputs": [],
   "source": [
    "for i in range(3):\n",
    "    zoom_in.click()\n",
    "    sleep(2)"
   ]
  },
  {
   "cell_type": "markdown",
   "id": "d45f449f-28de-4905-ac5e-4185daf3d7de",
   "metadata": {},
   "source": [
    "#### 拖曳"
   ]
  },
  {
   "cell_type": "code",
   "execution_count": 51,
   "id": "90855f4c-8083-4d79-8ce5-3c17fe7b7b91",
   "metadata": {},
   "outputs": [],
   "source": [
    "yman = driver.find_element(By.CSS_SELECTOR,\"#runway-expand-button>div>div>button:nth-child(1)\")"
   ]
  },
  {
   "cell_type": "code",
   "execution_count": 57,
   "id": "a456e4b1-800c-4104-bac9-8d732bb030ef",
   "metadata": {},
   "outputs": [],
   "source": [
    "ActionChains(driver).drag_and_drop_by_offset(yman, randint(-400,-200), randint(-400,-200)).perform()"
   ]
  },
  {
   "cell_type": "code",
   "execution_count": 59,
   "id": "4e026e88-2da5-4895-9762-7e0815cd2fa3",
   "metadata": {},
   "outputs": [],
   "source": [
    "yman = driver.find_element(By.CSS_SELECTOR,\"#titlecard>div>div>button:nth-child(1)\").click()"
   ]
  },
  {
   "cell_type": "markdown",
   "id": "2e828c33-823a-49b3-b1f2-097d3ca25f92",
   "metadata": {},
   "source": [
    "#### 鍵盤操作  \n",
    "更多Keys操作  https://github.com/SeleniumHQ/selenium/blob/selenium-4.2.0/py/selenium/webdriver/common/keys.py#L23"
   ]
  },
  {
   "cell_type": "code",
   "execution_count": 76,
   "id": "fab20e27-a2cb-4ae1-93f5-a6c9d4f186aa",
   "metadata": {},
   "outputs": [],
   "source": [
    "gmap = driver.find_element(By.CSS_SELECTOR,\"canvas.widget-scene-canvas\")\n",
    "arrows_list = [Keys.UP, Keys.RIGHT, Keys.DOWN, Keys.LEFT]\n",
    "for i in range(5):\n",
    "    gmap.send_keys(choice(arrows_list))\n",
    "    sleep(1)"
   ]
  },
  {
   "cell_type": "code",
   "execution_count": null,
   "id": "35bb1c9e-c684-4390-9440-1e3a461981ec",
   "metadata": {},
   "outputs": [],
   "source": []
  }
 ],
 "metadata": {
  "kernelspec": {
   "display_name": "Python [conda env:base] *",
   "language": "python",
   "name": "conda-base-py"
  },
  "language_info": {
   "codemirror_mode": {
    "name": "ipython",
    "version": 3
   },
   "file_extension": ".py",
   "mimetype": "text/x-python",
   "name": "python",
   "nbconvert_exporter": "python",
   "pygments_lexer": "ipython3",
   "version": "3.12.4"
  }
 },
 "nbformat": 4,
 "nbformat_minor": 5
}
