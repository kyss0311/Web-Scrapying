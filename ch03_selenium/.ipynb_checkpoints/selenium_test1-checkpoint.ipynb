{
 "cells": [
  {
   "cell_type": "code",
   "execution_count": 2,
   "id": "c493a163-6b1d-4430-bbb4-039c4c139e86",
   "metadata": {},
   "outputs": [],
   "source": [
    "import requests as rq\n",
    "from pyquery import PyQuery as pq"
   ]
  },
  {
   "cell_type": "code",
   "execution_count": 4,
   "id": "b8cc3f01-fadf-42a1-b273-b175a9d7bfbb",
   "metadata": {},
   "outputs": [],
   "source": [
    "res = rq.get(\"https://pyscraping.pages.dev/ajaxDemo\")"
   ]
  },
  {
   "cell_type": "code",
   "execution_count": 6,
   "id": "c49c974a-479c-4dd4-b841-896ebeec5268",
   "metadata": {},
   "outputs": [],
   "source": [
    "doc = pq(res.text)"
   ]
  },
  {
   "cell_type": "code",
   "execution_count": 14,
   "id": "b8a44ca4-79d5-4918-b754-645a6bcce93a",
   "metadata": {},
   "outputs": [
    {
     "data": {
      "text/plain": [
       "'這是一些不重要的內容，你會在網頁載入時看到它。'"
      ]
     },
     "execution_count": 14,
     "metadata": {},
     "output_type": "execute_result"
    }
   ],
   "source": [
    "doc(\"#content\").text()"
   ]
  },
  {
   "cell_type": "code",
   "execution_count": null,
   "id": "c48e42ee-b866-405f-9c63-35c2b4af0ab5",
   "metadata": {},
   "outputs": [],
   "source": []
  },
  {
   "cell_type": "markdown",
   "id": "27ec1da9-d61b-4c8c-8bf8-5874ba10e3cb",
   "metadata": {},
   "source": [
    "### 安裝chrome瀏覽器、selenium\n",
    "pip install selenium\n",
    "pip install chromedriver_autoinstaller"
   ]
  },
  {
   "cell_type": "code",
   "execution_count": 101,
   "id": "42fa129d-9e2a-4405-9b21-a49db88f42d5",
   "metadata": {},
   "outputs": [
    {
     "data": {
      "text/plain": [
       "'D:\\\\pys_ntu\\\\ch03_selenium\\\\133\\\\chromedriver.exe'"
      ]
     },
     "execution_count": 101,
     "metadata": {},
     "output_type": "execute_result"
    }
   ],
   "source": [
    "from selenium import webdriver\n",
    "import chromedriver_autoinstaller\n",
    "from selenium.webdriver.common.by import By\n",
    "from pyquery import PyQuery as pq\n",
    "\n",
    "from time import sleep\n",
    "\n",
    "chromedriver_autoinstaller.install(cwd=True)  #cwd = True 下載至當前資料夾"
   ]
  },
  {
   "cell_type": "code",
   "execution_count": 102,
   "id": "e2a97f63-a207-438b-8c05-42815d938a35",
   "metadata": {},
   "outputs": [],
   "source": [
    "driver = webdriver.Chrome()\n",
    "driver.get(\"https://pyscraping.pages.dev/ajaxDemo\")"
   ]
  },
  {
   "cell_type": "markdown",
   "id": "00e10176-7f1e-44ea-b3c7-c26af557d3d4",
   "metadata": {},
   "source": [
    "### 第一種讓selenium等待的方式 sleep模組\n",
    "效率低容易出錯"
   ]
  },
  {
   "cell_type": "code",
   "execution_count": 70,
   "id": "8292af8b-4911-4cca-93a4-a1ecfa7cf254",
   "metadata": {
    "scrolled": true
   },
   "outputs": [
    {
     "name": "stdout",
     "output_type": "stream",
     "text": [
      "Message: no such element: Unable to locate element: {\"method\":\"css selector\",\"selector\":\"#content>span\"}\n",
      "  (Session info: chrome=133.0.6943.128); For documentation on this error, please visit: https://www.selenium.dev/documentation/webdriver/troubleshooting/errors#no-such-element-exception\n",
      "Stacktrace:\n",
      "\tGetHandleVerifier [0x00700B43+25139]\n",
      "\t(No symbol) [0x006913F4]\n",
      "\t(No symbol) [0x005704E3]\n",
      "\t(No symbol) [0x005B83D7]\n",
      "\t(No symbol) [0x005B872B]\n",
      "\t(No symbol) [0x00601002]\n",
      "\t(No symbol) [0x005DD014]\n",
      "\t(No symbol) [0x005FE778]\n",
      "\t(No symbol) [0x005DCDC6]\n",
      "\t(No symbol) [0x005ABDE9]\n",
      "\t(No symbol) [0x005AD124]\n",
      "\tGetHandleVerifier [0x00A04373+3185251]\n",
      "\tGetHandleVerifier [0x00A2291A+3309578]\n",
      "\tGetHandleVerifier [0x00A1CF42+3286578]\n",
      "\tGetHandleVerifier [0x00797AE0+643536]\n",
      "\t(No symbol) [0x0069A20D]\n",
      "\t(No symbol) [0x006970B8]\n",
      "\t(No symbol) [0x00697257]\n",
      "\t(No symbol) [0x00689E00]\n",
      "\tBaseThreadInitThunk [0x77175D49+25]\n",
      "\tRtlInitializeExceptionChain [0x7784CDEB+107]\n",
      "\tRtlGetAppContainerNamedObjectPath [0x7784CD71+561]\n",
      "\n",
      "松 下 問 童 子 ，言 師 採 藥 去。\n",
      "只 在 此 山 中，雲 深 不 知 處 。\n"
     ]
    }
   ],
   "source": [
    "try:\n",
    "    print(driver.find_element(By.CSS_SELECTOR, \"#content>span\").text)\n",
    "except Exception as e:\n",
    "    print(e)\n",
    "    sleep(6)\n",
    "    print(driver.find_element(By.CSS_SELECTOR, \"#content>span\").text)"
   ]
  },
  {
   "cell_type": "code",
   "execution_count": 71,
   "id": "98c8efc4-6fba-41d1-b408-e8aa84a3eec0",
   "metadata": {},
   "outputs": [],
   "source": [
    "doc = pq(driver.page_source)"
   ]
  },
  {
   "cell_type": "code",
   "execution_count": 72,
   "id": "d034adeb-e33d-47af-ad3a-6ee28f557140",
   "metadata": {},
   "outputs": [
    {
     "data": {
      "text/plain": [
       "'松 下 問 童 子 ，言 師 採 藥 去。\\n只 在 此 山 中，雲 深 不 知 處 。'"
      ]
     },
     "execution_count": 72,
     "metadata": {},
     "output_type": "execute_result"
    }
   ],
   "source": [
    "doc(\"#content>span\").text()"
   ]
  },
  {
   "cell_type": "code",
   "execution_count": 74,
   "id": "ed9aaeae-2291-4f2a-93d6-e39b055d3dbb",
   "metadata": {},
   "outputs": [],
   "source": [
    "driver.close()"
   ]
  },
  {
   "cell_type": "code",
   "execution_count": null,
   "id": "4e72cc05-bddd-4996-aa95-514e2198d466",
   "metadata": {},
   "outputs": [],
   "source": []
  },
  {
   "cell_type": "markdown",
   "id": "37ce535d-345a-4c42-b3cc-5d04c6d1bf2a",
   "metadata": {},
   "source": [
    "### 第二種等待方式 隱性等待(全局等待) implicitly_wait(最常等待時間)\n",
    "類似 request 的 timeout"
   ]
  },
  {
   "cell_type": "code",
   "execution_count": null,
   "id": "ebe5615e-7572-43b6-a06c-1d77b2c78e30",
   "metadata": {},
   "outputs": [],
   "source": []
  },
  {
   "cell_type": "markdown",
   "id": "cbb9fa0b-c043-4099-8a69-cdd65621b323",
   "metadata": {},
   "source": [
    "### 第三種等待方式 WebDriverWait (最常使用)\n",
    "from selenium.webdriver.support.ui import WebDriverWait <br>\n",
    "WebDriverWait(driver, 等待最長時間).until(函式) <br>\n",
    "函式成立就提早結束"
   ]
  },
  {
   "cell_type": "code",
   "execution_count": 87,
   "id": "27f9f7d8-e1dd-4dd8-ba96-e654e7b629b8",
   "metadata": {},
   "outputs": [],
   "source": [
    "from selenium.webdriver.support.ui import WebDriverWait"
   ]
  },
  {
   "cell_type": "code",
   "execution_count": 111,
   "id": "91c70da1-e45d-4d82-9f6c-117e32c10256",
   "metadata": {},
   "outputs": [],
   "source": [
    "driver = webdriver.Chrome()\n",
    "driver.get(\"https://pyscraping.pages.dev/ajaxDemo\")"
   ]
  },
  {
   "cell_type": "code",
   "execution_count": 112,
   "id": "84e476d8-32dc-44a1-aaf1-d8953d0f4c58",
   "metadata": {},
   "outputs": [
    {
     "data": {
      "text/plain": [
       "[<selenium.webdriver.remote.webelement.WebElement (session=\"53a24b43e7d12a486e569569db65cfa7\", element=\"f.172E0B0F76367C7B2099387A1EA0FD7F.d.36BB053E3D8B5E8478DC684C602A43C8.e.4\")>]"
      ]
     },
     "execution_count": 112,
     "metadata": {},
     "output_type": "execute_result"
    }
   ],
   "source": [
    "wait = WebDriverWait(driver, 10)\n",
    "wait.until(lambda driver: driver.find_elements(By.CSS_SELECTOR,\"#content>span\")) "
   ]
  },
  {
   "cell_type": "code",
   "execution_count": 114,
   "id": "a276e367-eb02-43aa-bc7a-a37310a6cf38",
   "metadata": {},
   "outputs": [
    {
     "data": {
      "text/plain": [
       "'松 下 問 童 子 ，言 師 採 藥 去。\\n只 在 此 山 中，雲 深 不 知 處 。'"
      ]
     },
     "execution_count": 114,
     "metadata": {},
     "output_type": "execute_result"
    }
   ],
   "source": [
    "doc = pq(driver.page_source)\n",
    "doc(\"#content>span\").text()"
   ]
  },
  {
   "cell_type": "code",
   "execution_count": 115,
   "id": "f8c31710-d9c7-4c94-a637-3c475e469dab",
   "metadata": {},
   "outputs": [],
   "source": [
    "driver.close()"
   ]
  },
  {
   "cell_type": "code",
   "execution_count": null,
   "id": "ab50f2cc-0e17-4f76-a387-3da336ed4e35",
   "metadata": {},
   "outputs": [],
   "source": []
  }
 ],
 "metadata": {
  "kernelspec": {
   "display_name": "Python [conda env:base] *",
   "language": "python",
   "name": "conda-base-py"
  },
  "language_info": {
   "codemirror_mode": {
    "name": "ipython",
    "version": 3
   },
   "file_extension": ".py",
   "mimetype": "text/x-python",
   "name": "python",
   "nbconvert_exporter": "python",
   "pygments_lexer": "ipython3",
   "version": "3.12.4"
  }
 },
 "nbformat": 4,
 "nbformat_minor": 5
}
