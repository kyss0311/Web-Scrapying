{
 "cells": [
  {
   "cell_type": "code",
   "execution_count": 3,
   "id": "d3042dc0-073a-44db-9e87-b39186ff686b",
   "metadata": {},
   "outputs": [
    {
     "data": {
      "text/plain": [
       "[1, 4, 9, 16, 25, 36, 49, 64, 81, 100]"
      ]
     },
     "execution_count": 3,
     "metadata": {},
     "output_type": "execute_result"
    }
   ],
   "source": [
    "# 一般作法的1~10平方串列\n",
    "s = []\n",
    "for i in range(1, 11):\n",
    "    s.append(i*i)\n",
    "s"
   ]
  },
  {
   "cell_type": "code",
   "execution_count": 9,
   "id": "3fe3abea-a109-4a8e-b2f8-db5833de759d",
   "metadata": {},
   "outputs": [
    {
     "data": {
      "text/plain": [
       "[1, 4, 9, 16, 25, 36, 49, 64, 81, 100]"
      ]
     },
     "execution_count": 9,
     "metadata": {},
     "output_type": "execute_result"
    }
   ],
   "source": [
    "# comprehension生成式\n",
    "c = [i*i for i in range(1, 11)]\n",
    "c"
   ]
  },
  {
   "cell_type": "code",
   "execution_count": 11,
   "id": "963e2c41-63b5-4685-929c-d05edf2d9430",
   "metadata": {},
   "outputs": [
    {
     "data": {
      "text/plain": [
       "['APPLE', 'BANANA', 'CHERRY', 'PINEAPPLE', 'SUGER-APPLE', 'ORANGE']"
      ]
     },
     "execution_count": 11,
     "metadata": {},
     "output_type": "execute_result"
    }
   ],
   "source": [
    "f = ['apple','banana','cherry','pineapple','suger-apple','orange']\n",
    "cf = [str.upper() for str in f]\n",
    "cf"
   ]
  },
  {
   "cell_type": "code",
   "execution_count": 23,
   "id": "66696e4c-b0ca-49ad-9007-5f2a261a6ff3",
   "metadata": {
    "scrolled": true
   },
   "outputs": [
    {
     "data": {
      "text/plain": [
       "[0, 2, 4, 5, 6, 8, 10, 12, 14, 15, 16, 18, 20]"
      ]
     },
     "execution_count": 23,
     "metadata": {},
     "output_type": "execute_result"
    }
   ],
   "source": [
    "# 產生0~20間 屬於2的倍數 或5的倍數 的串列\n",
    "e = [num for num in range(21) if num%2 == 0 or num%5 == 0 ]\n",
    "e"
   ]
  },
  {
   "cell_type": "code",
   "execution_count": 27,
   "id": "ecbf4ba6-71bf-43d6-bf20-be3e60abb01d",
   "metadata": {},
   "outputs": [
    {
     "data": {
      "text/plain": [
       "['0 = even',\n",
       " '2 = even',\n",
       " '4 = even',\n",
       " '5 = odd',\n",
       " '6 = even',\n",
       " '8 = even',\n",
       " '10 = even',\n",
       " '12 = even',\n",
       " '14 = even',\n",
       " '15 = odd',\n",
       " '16 = even',\n",
       " '18 = even',\n",
       " '20 = even']"
      ]
     },
     "execution_count": 27,
     "metadata": {},
     "output_type": "execute_result"
    }
   ],
   "source": [
    "# 使用上方 e串列 產生判斷基數偶數的文字串列\n",
    "s = [str(k)+' = even' if k%2==0 else str(k)+' = odd' for k in e]\n",
    "s"
   ]
  },
  {
   "cell_type": "code",
   "execution_count": 33,
   "id": "1fc9dd75-1853-4df8-8035-a80a3041f143",
   "metadata": {},
   "outputs": [
    {
     "data": {
      "text/plain": [
       "['apple', 'pineapple', 'suger-apple']"
      ]
     },
     "execution_count": 33,
     "metadata": {},
     "output_type": "execute_result"
    }
   ],
   "source": [
    "f = ['apple','banana','cherry','pineapple','suger-apple','orange']\n",
    "a = [ str for str in f if 'apple' in str]\n",
    "a"
   ]
  },
  {
   "cell_type": "code",
   "execution_count": 47,
   "id": "684bc54c-9430-43b1-ace9-54054b6d8a85",
   "metadata": {
    "scrolled": true
   },
   "outputs": [
    {
     "data": {
      "text/plain": [
       "[(1, 1, 1),\n",
       " (1, 2, 2),\n",
       " (1, 3, 3),\n",
       " (1, 4, 4),\n",
       " (1, 5, 5),\n",
       " (1, 6, 6),\n",
       " (1, 7, 7),\n",
       " (1, 8, 8),\n",
       " (1, 9, 9),\n",
       " (2, 1, 2),\n",
       " (2, 2, 4),\n",
       " (2, 3, 6),\n",
       " (2, 4, 8),\n",
       " (2, 5, 10),\n",
       " (2, 6, 12),\n",
       " (2, 7, 14),\n",
       " (2, 8, 16),\n",
       " (2, 9, 18),\n",
       " (3, 1, 3),\n",
       " (3, 2, 6),\n",
       " (3, 3, 9),\n",
       " (3, 4, 12),\n",
       " (3, 5, 15),\n",
       " (3, 6, 18),\n",
       " (3, 7, 21),\n",
       " (3, 8, 24),\n",
       " (3, 9, 27),\n",
       " (4, 1, 4),\n",
       " (4, 2, 8),\n",
       " (4, 3, 12),\n",
       " (4, 4, 16),\n",
       " (4, 5, 20),\n",
       " (4, 6, 24),\n",
       " (4, 7, 28),\n",
       " (4, 8, 32),\n",
       " (4, 9, 36),\n",
       " (5, 1, 5),\n",
       " (5, 2, 10),\n",
       " (5, 3, 15),\n",
       " (5, 4, 20),\n",
       " (5, 5, 25),\n",
       " (5, 6, 30),\n",
       " (5, 7, 35),\n",
       " (5, 8, 40),\n",
       " (5, 9, 45),\n",
       " (6, 1, 6),\n",
       " (6, 2, 12),\n",
       " (6, 3, 18),\n",
       " (6, 4, 24),\n",
       " (6, 5, 30),\n",
       " (6, 6, 36),\n",
       " (6, 7, 42),\n",
       " (6, 8, 48),\n",
       " (6, 9, 54),\n",
       " (7, 1, 7),\n",
       " (7, 2, 14),\n",
       " (7, 3, 21),\n",
       " (7, 4, 28),\n",
       " (7, 5, 35),\n",
       " (7, 6, 42),\n",
       " (7, 7, 49),\n",
       " (7, 8, 56),\n",
       " (7, 9, 63),\n",
       " (8, 1, 8),\n",
       " (8, 2, 16),\n",
       " (8, 3, 24),\n",
       " (8, 4, 32),\n",
       " (8, 5, 40),\n",
       " (8, 6, 48),\n",
       " (8, 7, 56),\n",
       " (8, 8, 64),\n",
       " (8, 9, 72),\n",
       " (9, 1, 9),\n",
       " (9, 2, 18),\n",
       " (9, 3, 27),\n",
       " (9, 4, 36),\n",
       " (9, 5, 45),\n",
       " (9, 6, 54),\n",
       " (9, 7, 63),\n",
       " (9, 8, 72),\n",
       " (9, 9, 81)]"
      ]
     },
     "execution_count": 47,
     "metadata": {},
     "output_type": "execute_result"
    }
   ],
   "source": [
    "# 產生99乘法表\n",
    "nine = []\n",
    "for i in range(1, 10):\n",
    "    for j in range(1, 10):\n",
    "        nine.append((i,j,i*j))\n",
    "nine"
   ]
  },
  {
   "cell_type": "code",
   "execution_count": 41,
   "id": "18c053f4-3bc4-4b4a-b5ef-bed9e532ab08",
   "metadata": {
    "scrolled": true
   },
   "outputs": [
    {
     "data": {
      "text/plain": [
       "['1*1=1',\n",
       " '1*2=2',\n",
       " '1*3=3',\n",
       " '1*4=4',\n",
       " '1*5=5',\n",
       " '1*6=6',\n",
       " '1*7=7',\n",
       " '1*8=8',\n",
       " '1*9=9',\n",
       " '2*1=2',\n",
       " '2*2=4',\n",
       " '2*3=6',\n",
       " '2*4=8',\n",
       " '2*5=10',\n",
       " '2*6=12',\n",
       " '2*7=14',\n",
       " '2*8=16',\n",
       " '2*9=18',\n",
       " '3*1=3',\n",
       " '3*2=6',\n",
       " '3*3=9',\n",
       " '3*4=12',\n",
       " '3*5=15',\n",
       " '3*6=18',\n",
       " '3*7=21',\n",
       " '3*8=24',\n",
       " '3*9=27',\n",
       " '4*1=4',\n",
       " '4*2=8',\n",
       " '4*3=12',\n",
       " '4*4=16',\n",
       " '4*5=20',\n",
       " '4*6=24',\n",
       " '4*7=28',\n",
       " '4*8=32',\n",
       " '4*9=36',\n",
       " '5*1=5',\n",
       " '5*2=10',\n",
       " '5*3=15',\n",
       " '5*4=20',\n",
       " '5*5=25',\n",
       " '5*6=30',\n",
       " '5*7=35',\n",
       " '5*8=40',\n",
       " '5*9=45',\n",
       " '6*1=6',\n",
       " '6*2=12',\n",
       " '6*3=18',\n",
       " '6*4=24',\n",
       " '6*5=30',\n",
       " '6*6=36',\n",
       " '6*7=42',\n",
       " '6*8=48',\n",
       " '6*9=54',\n",
       " '7*1=7',\n",
       " '7*2=14',\n",
       " '7*3=21',\n",
       " '7*4=28',\n",
       " '7*5=35',\n",
       " '7*6=42',\n",
       " '7*7=49',\n",
       " '7*8=56',\n",
       " '7*9=63',\n",
       " '8*1=8',\n",
       " '8*2=16',\n",
       " '8*3=24',\n",
       " '8*4=32',\n",
       " '8*5=40',\n",
       " '8*6=48',\n",
       " '8*7=56',\n",
       " '8*8=64',\n",
       " '8*9=72',\n",
       " '9*1=9',\n",
       " '9*2=18',\n",
       " '9*3=27',\n",
       " '9*4=36',\n",
       " '9*5=45',\n",
       " '9*6=54',\n",
       " '9*7=63',\n",
       " '9*8=72',\n",
       " '9*9=81']"
      ]
     },
     "execution_count": 41,
     "metadata": {},
     "output_type": "execute_result"
    }
   ],
   "source": [
    "cnine = [\"{}*{}={}\".format(i,j,i*j) for i in range(1, 10) for j in range(1, 10)]\n",
    "cnine"
   ]
  },
  {
   "cell_type": "code",
   "execution_count": 57,
   "id": "41ff8d05-80a8-4030-a9ad-a74c565d9875",
   "metadata": {
    "scrolled": true
   },
   "outputs": [
    {
     "data": {
      "text/plain": [
       "['♠A',\n",
       " '♠2',\n",
       " '♠3',\n",
       " '♠4',\n",
       " '♠5',\n",
       " '♠6',\n",
       " '♠7',\n",
       " '♠8',\n",
       " '♠9',\n",
       " '♠10',\n",
       " '♠J',\n",
       " '♠Q',\n",
       " '♠K',\n",
       " '♥A',\n",
       " '♥2',\n",
       " '♥3',\n",
       " '♥4',\n",
       " '♥5',\n",
       " '♥6',\n",
       " '♥7',\n",
       " '♥8',\n",
       " '♥9',\n",
       " '♥10',\n",
       " '♥J',\n",
       " '♥Q',\n",
       " '♥K',\n",
       " '♣A',\n",
       " '♣2',\n",
       " '♣3',\n",
       " '♣4',\n",
       " '♣5',\n",
       " '♣6',\n",
       " '♣7',\n",
       " '♣8',\n",
       " '♣9',\n",
       " '♣10',\n",
       " '♣J',\n",
       " '♣Q',\n",
       " '♣K',\n",
       " '♦A',\n",
       " '♦2',\n",
       " '♦3',\n",
       " '♦4',\n",
       " '♦5',\n",
       " '♦6',\n",
       " '♦7',\n",
       " '♦8',\n",
       " '♦9',\n",
       " '♦10',\n",
       " '♦J',\n",
       " '♦Q',\n",
       " '♦K']"
      ]
     },
     "execution_count": 57,
     "metadata": {},
     "output_type": "execute_result"
    }
   ],
   "source": [
    "flower = ['♠','♥','♣','♦']\n",
    "number = ['A','2','3','4','5','6','7','8','9','10','J','Q','K']\n",
    "poke = [f+n for f in flower for n in number]\n",
    "poke"
   ]
  },
  {
   "cell_type": "code",
   "execution_count": 59,
   "id": "ebf8c83c-1b59-4980-8aee-b33b6b63efe7",
   "metadata": {},
   "outputs": [
    {
     "data": {
      "text/plain": [
       "{1: 1, 2: 4, 3: 9, 4: 16, 5: 25, 6: 36, 7: 49, 8: 64, 9: 81, 10: 100}"
      ]
     },
     "execution_count": 59,
     "metadata": {},
     "output_type": "execute_result"
    }
   ],
   "source": [
    "# dict\n",
    "s = {}\n",
    "for n in range(1,11):\n",
    "    s[n] = n*n\n",
    "s"
   ]
  },
  {
   "cell_type": "code",
   "execution_count": 61,
   "id": "68db40e2-f0df-4cdf-ab1f-0d17139e2d90",
   "metadata": {},
   "outputs": [
    {
     "data": {
      "text/plain": [
       "{1: 1, 2: 4, 3: 9, 4: 16, 5: 25, 6: 36, 7: 49, 8: 64, 9: 81, 10: 100}"
      ]
     },
     "execution_count": 61,
     "metadata": {},
     "output_type": "execute_result"
    }
   ],
   "source": [
    "s = {n:n*n for n in range(1,11)}\n",
    "s"
   ]
  },
  {
   "cell_type": "code",
   "execution_count": 63,
   "id": "aed78f0c-6885-4e22-a168-4b5ac44c92d3",
   "metadata": {},
   "outputs": [
    {
     "data": {
      "text/plain": [
       "{1, 2, 3, 4, 5, 6, 7, 8, 9, 10}"
      ]
     },
     "execution_count": 63,
     "metadata": {},
     "output_type": "execute_result"
    }
   ],
   "source": [
    "# set\n",
    "s = set()\n",
    "for n in range(1,11):\n",
    "    s.add(n)\n",
    "s"
   ]
  },
  {
   "cell_type": "code",
   "execution_count": 65,
   "id": "838abb19-9202-414f-871f-6b9a96352f0d",
   "metadata": {},
   "outputs": [
    {
     "data": {
      "text/plain": [
       "{1, 2, 3, 4, 5, 6, 7, 8, 9, 10}"
      ]
     },
     "execution_count": 65,
     "metadata": {},
     "output_type": "execute_result"
    }
   ],
   "source": [
    "s={n for n in range(1,11)}\n",
    "s"
   ]
  },
  {
   "cell_type": "code",
   "execution_count": 69,
   "id": "c2557bbf-2323-47e2-9815-93adaff14bb5",
   "metadata": {},
   "outputs": [
    {
     "data": {
      "text/plain": [
       "(1, 4, 9, 16, 25, 36, 49, 64, 81, 100)"
      ]
     },
     "execution_count": 69,
     "metadata": {},
     "output_type": "execute_result"
    }
   ],
   "source": [
    "# tuple沒有生成式\n",
    "s=[]\n",
    "for n in range(1,11):\n",
    "    s.append(n*n)\n",
    "t = tuple(s)\n",
    "t"
   ]
  },
  {
   "cell_type": "code",
   "execution_count": 75,
   "id": "aec48ff8-48be-4314-abfa-ecae748949de",
   "metadata": {},
   "outputs": [
    {
     "data": {
      "text/plain": [
       "[1, 4, 9, 16, 25, 36, 49, 64, 81, 100]"
      ]
     },
     "execution_count": 75,
     "metadata": {},
     "output_type": "execute_result"
    }
   ],
   "source": [
    "t=([n*n for n in range(1,11)])\n",
    "t"
   ]
  },
  {
   "cell_type": "code",
   "execution_count": null,
   "id": "8f171431-f1e4-40f9-8a29-eb6ca46dde53",
   "metadata": {},
   "outputs": [],
   "source": []
  }
 ],
 "metadata": {
  "kernelspec": {
   "display_name": "Python 3 (ipykernel)",
   "language": "python",
   "name": "python3"
  },
  "language_info": {
   "codemirror_mode": {
    "name": "ipython",
    "version": 3
   },
   "file_extension": ".py",
   "mimetype": "text/x-python",
   "name": "python",
   "nbconvert_exporter": "python",
   "pygments_lexer": "ipython3",
   "version": "3.12.4"
  }
 },
 "nbformat": 4,
 "nbformat_minor": 5
}
