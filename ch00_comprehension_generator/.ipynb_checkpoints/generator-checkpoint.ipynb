{
 "cells": [
  {
   "cell_type": "code",
   "execution_count": 87,
   "id": "cf194908-af0c-41bd-97c8-d47ca38c862c",
   "metadata": {},
   "outputs": [
    {
     "name": "stdout",
     "output_type": "stream",
     "text": [
      "<class 'generator'>\n"
     ]
    },
    {
     "data": {
      "text/plain": [
       "<generator object <genexpr> at 0x000002A0C9D88380>"
      ]
     },
     "execution_count": 87,
     "metadata": {},
     "output_type": "execute_result"
    }
   ],
   "source": [
    "# 產生器式將資料提供給迴圈的方式 會動態產生他的值 一次送出一個值 與生成式不同 產生器只能使用一次\n",
    "# 只把資料提供出來 沒有存放 而且一次只傳一筆資料 效率高又不占空間\n",
    "t=(n*n for n in range(1,11))\n",
    "print(type(t))\n",
    "t"
   ]
  },
  {
   "cell_type": "code",
   "execution_count": 89,
   "id": "4cf9cd03-8b3a-43d3-8284-a2552f4d6664",
   "metadata": {},
   "outputs": [
    {
     "name": "stdout",
     "output_type": "stream",
     "text": [
      "1\n",
      "4\n",
      "9\n",
      "16\n",
      "25\n",
      "36\n",
      "49\n",
      "64\n",
      "81\n",
      "100\n"
     ]
    }
   ],
   "source": [
    "# 第二次無法執行\n",
    "for number in t:\n",
    "    print(number)"
   ]
  },
  {
   "cell_type": "code",
   "execution_count": 91,
   "id": "5f5bc722-3d7a-4b8a-baf4-c0688c28b6e6",
   "metadata": {},
   "outputs": [],
   "source": [
    "# 此段程式碼無法執行第二次\n",
    "for number in t:\n",
    "    print(number)"
   ]
  },
  {
   "cell_type": "code",
   "execution_count": null,
   "id": "aeddf484-8938-49ec-a93e-edc25d52f653",
   "metadata": {},
   "outputs": [],
   "source": []
  },
  {
   "cell_type": "code",
   "execution_count": 94,
   "id": "1f306c35-ca2a-4801-8b37-e95fb9b67ae3",
   "metadata": {},
   "outputs": [
    {
     "name": "stdout",
     "output_type": "stream",
     "text": [
      "<class 'generator'>\n"
     ]
    },
    {
     "data": {
      "text/plain": [
       "<generator object <genexpr> at 0x000002A0C9D8FE00>"
      ]
     },
     "execution_count": 94,
     "metadata": {},
     "output_type": "execute_result"
    }
   ],
   "source": [
    "g=(n*n for n in range(1,11))\n",
    "print(type(g))\n",
    "g"
   ]
  },
  {
   "cell_type": "code",
   "execution_count": 96,
   "id": "a6190133-62e2-445d-a3c6-68fad308f1a1",
   "metadata": {},
   "outputs": [
    {
     "name": "stdout",
     "output_type": "stream",
     "text": [
      "[1, 4, 9, 16, 25, 36, 49, 64, 81, 100]\n"
     ]
    }
   ],
   "source": [
    "number_list = list(g)\n",
    "print(number_list)"
   ]
  },
  {
   "cell_type": "code",
   "execution_count": null,
   "id": "0e2a260e-4fed-46a6-b014-771a65a9a83a",
   "metadata": {},
   "outputs": [],
   "source": []
  },
  {
   "cell_type": "code",
   "execution_count": 99,
   "id": "7f0acc9c-1c49-4343-84e7-f95afc5ac8ff",
   "metadata": {},
   "outputs": [
    {
     "name": "stdout",
     "output_type": "stream",
     "text": [
      "1\n",
      "1\n",
      "1\n"
     ]
    }
   ],
   "source": [
    "def f():\n",
    "    return 1\n",
    "    return 2\n",
    "    return 3\n",
    "print(f())\n",
    "print(f())\n",
    "print(f())"
   ]
  },
  {
   "cell_type": "code",
   "execution_count": 101,
   "id": "16757adf-2236-495a-b73f-401de1d2dd55",
   "metadata": {},
   "outputs": [
    {
     "name": "stdout",
     "output_type": "stream",
     "text": [
      "1\n",
      "2\n",
      "3\n"
     ]
    }
   ],
   "source": [
    "def f():\n",
    "    yield 1\n",
    "    yield 2\n",
    "    yield 3\n",
    "g = f()\n",
    "print(next(g))\n",
    "print(next(g))\n",
    "print(next(g))"
   ]
  },
  {
   "cell_type": "code",
   "execution_count": 103,
   "id": "3ba946f7-7b4e-4c4d-89d2-1aa244c296ad",
   "metadata": {},
   "outputs": [],
   "source": [
    "# 定義一個效果跟 range一樣的產生器函式\n",
    "# \n",
    "def my_range(first = 0, last = 1, step = 1):\n",
    "    n = first\n",
    "    while n < last:\n",
    "        yield n\n",
    "        n += step"
   ]
  },
  {
   "cell_type": "code",
   "execution_count": 105,
   "id": "f56a6d60-3b98-4129-82c6-cf8a1ec98766",
   "metadata": {},
   "outputs": [
    {
     "name": "stdout",
     "output_type": "stream",
     "text": [
      "1\n",
      "2\n",
      "3\n",
      "4\n"
     ]
    }
   ],
   "source": [
    "for x in my_range(1,5):\n",
    "    print(x)"
   ]
  },
  {
   "cell_type": "code",
   "execution_count": 107,
   "id": "45dc59c3-0ad5-4571-8bc3-906db4453f52",
   "metadata": {},
   "outputs": [
    {
     "name": "stdout",
     "output_type": "stream",
     "text": [
      "2\n",
      "3\n",
      "4\n",
      "5\n",
      "6\n",
      "7\n",
      "8\n",
      "9\n"
     ]
    }
   ],
   "source": [
    "mr = my_range(2,10)\n",
    "for i in mr:\n",
    "    print(i)"
   ]
  },
  {
   "cell_type": "code",
   "execution_count": 116,
   "id": "e0d629fa-f824-4607-93d1-ab18e2921c63",
   "metadata": {},
   "outputs": [],
   "source": [
    "# 質數產生器\n",
    "def gen_prime():\n",
    "    primes = set()\n",
    "    init_value = 2\n",
    "    n = init_value\n",
    "    while True:\n",
    "        if all(n%p>0 for p in primes):\n",
    "            primes.add(n)\n",
    "            yield n\n",
    "        n+=1"
   ]
  },
  {
   "cell_type": "code",
   "execution_count": 118,
   "id": "452a6770-6905-4418-81d4-16af861e9bee",
   "metadata": {},
   "outputs": [
    {
     "name": "stdout",
     "output_type": "stream",
     "text": [
      "2\n",
      "3\n",
      "5\n",
      "7\n",
      "11\n",
      "13\n",
      "17\n",
      "19\n",
      "23\n",
      "29\n",
      "31\n",
      "37\n",
      "41\n",
      "43\n",
      "47\n",
      "53\n",
      "59\n",
      "61\n",
      "67\n",
      "71\n",
      "73\n",
      "79\n",
      "83\n",
      "89\n",
      "97\n",
      "101\n",
      "103\n",
      "107\n",
      "109\n",
      "113\n",
      "127\n",
      "131\n",
      "137\n",
      "139\n",
      "149\n",
      "151\n",
      "157\n",
      "163\n",
      "167\n",
      "173\n",
      "179\n",
      "181\n",
      "191\n",
      "193\n",
      "197\n",
      "199\n",
      "211\n",
      "223\n",
      "227\n",
      "229\n",
      "233\n",
      "239\n",
      "241\n",
      "251\n",
      "257\n",
      "263\n",
      "269\n",
      "271\n",
      "277\n",
      "281\n",
      "283\n",
      "293\n",
      "307\n",
      "311\n",
      "313\n",
      "317\n",
      "331\n",
      "337\n",
      "347\n",
      "349\n",
      "353\n",
      "359\n",
      "367\n",
      "373\n",
      "379\n",
      "383\n",
      "389\n",
      "397\n",
      "401\n",
      "409\n",
      "419\n",
      "421\n",
      "431\n",
      "433\n",
      "439\n",
      "443\n",
      "449\n",
      "457\n",
      "461\n",
      "463\n",
      "467\n",
      "479\n",
      "487\n",
      "491\n",
      "499\n",
      "503\n",
      "509\n",
      "521\n",
      "523\n",
      "541\n"
     ]
    }
   ],
   "source": [
    "# 產生100個值數\n",
    "gp = gen_prime()\n",
    "for i in range(100):\n",
    "    print(next(gp))"
   ]
  },
  {
   "cell_type": "code",
   "execution_count": 124,
   "id": "b2dd6701-397f-48ab-86e2-e8ed5145ab06",
   "metadata": {},
   "outputs": [
    {
     "name": "stdout",
     "output_type": "stream",
     "text": [
      "-5 -4 -3 -2 -1 0 1 2 3 4 5 "
     ]
    }
   ],
   "source": [
    "# yield from用法 產生可以產生 -n到 +n的函式\n",
    "def np_range(n):\n",
    "    for i in range(0-n,0):\n",
    "        yield i\n",
    "    for i in range(n+1):\n",
    "        yield i\n",
    "\n",
    "for i in np_range(5):\n",
    "    print(i, end=' ')"
   ]
  },
  {
   "cell_type": "code",
   "execution_count": 131,
   "id": "0e663c29-3a19-4b79-aba7-4516c6b7788b",
   "metadata": {},
   "outputs": [
    {
     "name": "stdout",
     "output_type": "stream",
     "text": [
      "-5 -4 -3 -2 -1 0 1 2 3 4 5 "
     ]
    }
   ],
   "source": [
    "def np_range(n):\n",
    "    yield from range(0-n,0)\n",
    "    yield from range(n+1)\n",
    "\n",
    "for i in np_range(5):\n",
    "    print(i, end=' ')"
   ]
  }
 ],
 "metadata": {
  "kernelspec": {
   "display_name": "Python 3 (ipykernel)",
   "language": "python",
   "name": "python3"
  },
  "language_info": {
   "codemirror_mode": {
    "name": "ipython",
    "version": 3
   },
   "file_extension": ".py",
   "mimetype": "text/x-python",
   "name": "python",
   "nbconvert_exporter": "python",
   "pygments_lexer": "ipython3",
   "version": "3.12.4"
  }
 },
 "nbformat": 4,
 "nbformat_minor": 5
}
