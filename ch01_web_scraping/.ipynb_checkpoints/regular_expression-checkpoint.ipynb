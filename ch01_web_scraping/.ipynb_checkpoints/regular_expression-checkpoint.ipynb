{
 "cells": [
  {
   "cell_type": "code",
   "execution_count": 1,
   "id": "4e23d10d-5f65-4a89-a027-16d900e19472",
   "metadata": {},
   "outputs": [],
   "source": [
    "import re"
   ]
  },
  {
   "cell_type": "code",
   "execution_count": null,
   "id": "95e72f40-ddce-4e7d-9b7c-c43929bd6b9b",
   "metadata": {},
   "outputs": [],
   "source": [
    "# 練習3"
   ]
  },
  {
   "cell_type": "code",
   "execution_count": 5,
   "id": "096c1be8-ad69-43e7-9e1f-e9bd4f604670",
   "metadata": {},
   "outputs": [
    {
     "name": "stdout",
     "output_type": "stream",
     "text": [
      "r prefix: Hi\\nHello\n",
      "no prefix: Hi\n",
      "Hello\n"
     ]
    }
   ],
   "source": [
    "#  字串 r前綴\n",
    "print(\"r prefix:\", r'Hi\\nHello')\n",
    "print(\"no prefix:\", 'Hi\\nHello')"
   ]
  },
  {
   "cell_type": "code",
   "execution_count": 75,
   "id": "370c520b-7e74-481c-8d86-7dfe66cb0daa",
   "metadata": {},
   "outputs": [],
   "source": [
    "def getDomainNameFromUrl(url):\n",
    "    domain = re.findall(r'\\/\\/(www\\.)?([\\w\\-\\.]+)', url)\n",
    "    return domain[0][-1] if domain else ''\n",
    "    # print(domain)"
   ]
  },
  {
   "cell_type": "code",
   "execution_count": 77,
   "id": "d73d29eb-6d10-44f6-a583-6b02ba976593",
   "metadata": {},
   "outputs": [],
   "source": [
    "urls = [\"https://mail.google.com/mail/u/0/#inbox \",\n",
    "\"https://regex101.com \",\n",
    "\"regex101.com\",\n",
    "\"http://www.google.com.tw/\", \n",
    "\"http://code-ta.ml/\"]"
   ]
  },
  {
   "cell_type": "code",
   "execution_count": 79,
   "id": "a0cf63c3-5037-4e6c-83f1-f1560b39360a",
   "metadata": {},
   "outputs": [
    {
     "name": "stdout",
     "output_type": "stream",
     "text": [
      "mail.google.com\n",
      "regex101.com\n",
      "\n",
      "google.com.tw\n",
      "code-ta.ml\n"
     ]
    }
   ],
   "source": [
    "for url in urls:\n",
    "    dn = getDomainNameFromUrl(url)\n",
    "    print(dn)"
   ]
  },
  {
   "cell_type": "code",
   "execution_count": null,
   "id": "81773441-4d17-4cd0-b110-7b7094fcbb6d",
   "metadata": {},
   "outputs": [],
   "source": []
  },
  {
   "cell_type": "code",
   "execution_count": 81,
   "id": "727e9309-294f-4003-9731-2d645296677f",
   "metadata": {},
   "outputs": [],
   "source": [
    "# 練習四"
   ]
  },
  {
   "cell_type": "code",
   "execution_count": 85,
   "id": "cede77b5-e1c0-4981-9bf7-e3db9d3a6076",
   "metadata": {},
   "outputs": [],
   "source": [
    "validhtmls = [\n",
    "    \"<a href='http://www.google.com'>google</a>\",\n",
    "    \"</br>\",\n",
    "    \"<input value='username' id='test'>\",\n",
    "    \"<div>hello html\",\n",
    "    \"</div>\",\n",
    "    \"<p>Happy<b>Regex</b></p>\"]"
   ]
  },
  {
   "cell_type": "code",
   "execution_count": 87,
   "id": "5d4e8e35-0a17-45ed-b208-251e3a211855",
   "metadata": {},
   "outputs": [],
   "source": [
    "invalidhtmls = [\n",
    "    \"<a href=\\\"http://www.google.com'>google< /a>\",\n",
    "    \"<//br>\",\n",
    "    \"<input value='username id='test'>\",\n",
    "    \"<div>>hello html\",\n",
    "    \"</div\", \n",
    "    \"p>>Happy<>Regex</b></p>\"]"
   ]
  },
  {
   "cell_type": "code",
   "execution_count": 104,
   "id": "3bd6bf7d-360f-457a-8ef3-2cf87b36a33c",
   "metadata": {},
   "outputs": [],
   "source": [
    "def isValidHTMLTag(htmlstr):\n",
    "    s = re.search(r'<\\/?([A-z]+)(\\\"[^\\\"]*\\\"|\\'[^\\']*\\'|[^\\\"\\'>\\n])*>', htmlstr)\n",
    "    # print(s)\n",
    "    return True if s else False"
   ]
  },
  {
   "cell_type": "code",
   "execution_count": 106,
   "id": "1ab28d62-db08-4c77-b54b-e827c767e815",
   "metadata": {},
   "outputs": [
    {
     "name": "stdout",
     "output_type": "stream",
     "text": [
      "True\n",
      "True\n",
      "True\n",
      "True\n",
      "True\n",
      "True\n"
     ]
    }
   ],
   "source": [
    "for html in validhtmls:\n",
    "    result = isValidHTMLTag(html)\n",
    "    print(result)"
   ]
  },
  {
   "cell_type": "code",
   "execution_count": 108,
   "id": "f8822e2d-2842-4d6d-b876-6532a257cb0a",
   "metadata": {},
   "outputs": [
    {
     "name": "stdout",
     "output_type": "stream",
     "text": [
      "False\n",
      "False\n",
      "False\n",
      "True\n",
      "False\n",
      "True\n"
     ]
    }
   ],
   "source": [
    "for html in invalidhtmls:\n",
    "    result = isValidHTMLTag(html)\n",
    "    print(result)"
   ]
  },
  {
   "cell_type": "code",
   "execution_count": null,
   "id": "bd1552bd-0263-4db5-b15e-8f57039d151c",
   "metadata": {},
   "outputs": [],
   "source": []
  },
  {
   "cell_type": "code",
   "execution_count": null,
   "id": "0bc21817-0632-46d9-a600-a2502bd540cb",
   "metadata": {},
   "outputs": [],
   "source": [
    "# 練習5"
   ]
  },
  {
   "cell_type": "code",
   "execution_count": 114,
   "id": "043081a7-5c42-406b-b2de-17634f1539a2",
   "metadata": {},
   "outputs": [],
   "source": [
    "validhtmls = [\n",
    "    \"<a href='http://www.google.com'>google</a>\",\n",
    "    \"</br>\",\n",
    "    \"<input value='username' id='test'>\",\n",
    "    \"<div>hello html\",\n",
    "    \"</div>\",\n",
    "    \"<p>Happy<b>Regex</b></p>\"]"
   ]
  },
  {
   "cell_type": "code",
   "execution_count": 120,
   "id": "9519bdf5-f1f0-491a-965f-93660a65aa1f",
   "metadata": {},
   "outputs": [],
   "source": [
    "def getHtmlText(htmlstr):\n",
    "    s = re.sub(r'<\\/?([A-z]+)(\\\"[^\\\"]*\\\"|\\'[^\\']*\\'|[^\\\"\\'>\\n])*>', '', htmlstr)\n",
    "    return s if s else ''\n",
    "    "
   ]
  },
  {
   "cell_type": "code",
   "execution_count": 122,
   "id": "ed37bc2d-7cb2-422a-bc54-391d16659824",
   "metadata": {},
   "outputs": [
    {
     "name": "stdout",
     "output_type": "stream",
     "text": [
      "google\n",
      "\n",
      "\n",
      "hello html\n",
      "\n",
      "HappyRegex\n"
     ]
    }
   ],
   "source": [
    "for html in validhtmls:\n",
    "    result = getHtmlText(html)\n",
    "    print(result)"
   ]
  },
  {
   "cell_type": "code",
   "execution_count": null,
   "id": "28f0d060-16c8-4cc1-9780-20398b022b8a",
   "metadata": {},
   "outputs": [],
   "source": []
  },
  {
   "cell_type": "code",
   "execution_count": 2,
   "id": "fbba145b-825a-4a99-8c5e-cded78c5b423",
   "metadata": {},
   "outputs": [
    {
     "name": "stdin",
     "output_type": "stream",
     "text": [
      " 4\n",
      " -0012\n",
      " +.88\n",
      " 3.14E\n",
      " -12.3e4\n"
     ]
    },
    {
     "name": "stdout",
     "output_type": "stream",
     "text": [
      "['-0012', '+.88', '3.14E', '-12.3e4']\n",
      "['']\n",
      "None\n",
      "['']\n",
      "None\n",
      "['']\n",
      "None\n",
      "['e4']\n",
      "None\n"
     ]
    }
   ],
   "source": [
    "import re\n",
    "def significant_number(n):\n",
    "    s = re.findall(r'^[-+]?[0-9.]+([eE][0-9]+)?', n)\n",
    "    print(s)\n",
    "    # return s[0][-1] if s else ''\n",
    "\n",
    "n = int(input())\n",
    "nums = []\n",
    "for i in range(n):\n",
    "    num = input()\n",
    "    nums.append(num)\n",
    "print(nums)\n",
    "# for i in range(n):\n",
    "#     num = input()\n",
    "#     ans = significant_number(num)\n",
    "#     # print(ans)\n",
    "\n",
    "for num in nums:\n",
    "    ans = significant_number(num)\n",
    "    print(ans)"
   ]
  },
  {
   "cell_type": "code",
   "execution_count": null,
   "id": "08f41568-40ad-4018-bead-c13a0f52e5bd",
   "metadata": {},
   "outputs": [],
   "source": []
  },
  {
   "cell_type": "code",
   "execution_count": null,
   "id": "9292f1d9-e8ee-4ab0-846a-e5045ed5dcae",
   "metadata": {},
   "outputs": [],
   "source": []
  }
 ],
 "metadata": {
  "kernelspec": {
   "display_name": "Python [conda env:base] *",
   "language": "python",
   "name": "conda-base-py"
  },
  "language_info": {
   "codemirror_mode": {
    "name": "ipython",
    "version": 3
   },
   "file_extension": ".py",
   "mimetype": "text/x-python",
   "name": "python",
   "nbconvert_exporter": "python",
   "pygments_lexer": "ipython3",
   "version": "3.12.4"
  }
 },
 "nbformat": 4,
 "nbformat_minor": 5
}
