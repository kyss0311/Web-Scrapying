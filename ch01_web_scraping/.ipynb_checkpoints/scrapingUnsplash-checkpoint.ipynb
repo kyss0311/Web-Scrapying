{
 "cells": [
  {
   "cell_type": "code",
   "execution_count": 1,
   "id": "e050a840-65f9-4271-9ac3-dd0dc04add4d",
   "metadata": {},
   "outputs": [],
   "source": [
    "import requests as re\n",
    "from pyquery import PyQuery as pq"
   ]
  },
  {
   "cell_type": "code",
   "execution_count": 43,
   "id": "0c5c37cc-ad0c-4e99-b8bb-967a00e0ae9c",
   "metadata": {},
   "outputs": [
    {
     "ename": "ParserError",
     "evalue": "Document is empty",
     "output_type": "error",
     "traceback": [
      "\u001b[1;31m---------------------------------------------------------------------------\u001b[0m",
      "\u001b[1;31mXMLSyntaxError\u001b[0m                            Traceback (most recent call last)",
      "File \u001b[1;32mD:\\anaconda3\\Lib\\site-packages\\pyquery\\pyquery.py:77\u001b[0m, in \u001b[0;36mfromstring\u001b[1;34m(context, parser, custom_parser)\u001b[0m\n\u001b[0;32m     76\u001b[0m \u001b[38;5;28;01mtry\u001b[39;00m:\n\u001b[1;32m---> 77\u001b[0m     result \u001b[38;5;241m=\u001b[39m \u001b[38;5;28mgetattr\u001b[39m(etree, meth)(context)\n\u001b[0;32m     78\u001b[0m \u001b[38;5;28;01mexcept\u001b[39;00m etree\u001b[38;5;241m.\u001b[39mXMLSyntaxError:\n",
      "File \u001b[1;32msrc/lxml/etree.pyx:3287\u001b[0m, in \u001b[0;36mlxml.etree.fromstring\u001b[1;34m()\u001b[0m\n",
      "File \u001b[1;32msrc/lxml/parser.pxi:1989\u001b[0m, in \u001b[0;36mlxml.etree._parseMemoryDocument\u001b[1;34m()\u001b[0m\n",
      "File \u001b[1;32msrc/lxml/parser.pxi:1869\u001b[0m, in \u001b[0;36mlxml.etree._parseDoc\u001b[1;34m()\u001b[0m\n",
      "File \u001b[1;32msrc/lxml/parser.pxi:1105\u001b[0m, in \u001b[0;36mlxml.etree._BaseParser._parseUnicodeDoc\u001b[1;34m()\u001b[0m\n",
      "File \u001b[1;32msrc/lxml/parser.pxi:633\u001b[0m, in \u001b[0;36mlxml.etree._ParserContext._handleParseResultDoc\u001b[1;34m()\u001b[0m\n",
      "File \u001b[1;32msrc/lxml/parser.pxi:743\u001b[0m, in \u001b[0;36mlxml.etree._handleParseResult\u001b[1;34m()\u001b[0m\n",
      "File \u001b[1;32msrc/lxml/parser.pxi:672\u001b[0m, in \u001b[0;36mlxml.etree._raiseParseError\u001b[1;34m()\u001b[0m\n",
      "\u001b[1;31mXMLSyntaxError\u001b[0m: Document is empty, line 1, column 1 (<string>, line 1)",
      "\nDuring handling of the above exception, another exception occurred:\n",
      "\u001b[1;31mParserError\u001b[0m                               Traceback (most recent call last)",
      "Cell \u001b[1;32mIn[43], line 3\u001b[0m\n\u001b[0;32m      1\u001b[0m keyword \u001b[38;5;241m=\u001b[39m \u001b[38;5;124m'\u001b[39m\u001b[38;5;124mtree\u001b[39m\u001b[38;5;124m'\u001b[39m\n\u001b[0;32m      2\u001b[0m res \u001b[38;5;241m=\u001b[39m re\u001b[38;5;241m.\u001b[39mget(\u001b[38;5;124m'\u001b[39m\u001b[38;5;124mhttps://unsplash.com/s/photos/tree\u001b[39m\u001b[38;5;124m'\u001b[39m)\n\u001b[1;32m----> 3\u001b[0m doc \u001b[38;5;241m=\u001b[39m pq(res\u001b[38;5;241m.\u001b[39mtext)\n",
      "File \u001b[1;32mD:\\anaconda3\\Lib\\site-packages\\pyquery\\pyquery.py:230\u001b[0m, in \u001b[0;36mPyQuery.__init__\u001b[1;34m(self, *args, **kwargs)\u001b[0m\n\u001b[0;32m    228\u001b[0m \u001b[38;5;28;01mif\u001b[39;00m \u001b[38;5;28misinstance\u001b[39m(context, basestring):\n\u001b[0;32m    229\u001b[0m     \u001b[38;5;28;01mtry\u001b[39;00m:\n\u001b[1;32m--> 230\u001b[0m         elements \u001b[38;5;241m=\u001b[39m fromstring(context, \u001b[38;5;28mself\u001b[39m\u001b[38;5;241m.\u001b[39mparser)\n\u001b[0;32m    231\u001b[0m     \u001b[38;5;28;01mexcept\u001b[39;00m \u001b[38;5;167;01mException\u001b[39;00m:\n\u001b[0;32m    232\u001b[0m         \u001b[38;5;28;01mraise\u001b[39;00m\n",
      "File \u001b[1;32mD:\\anaconda3\\Lib\\site-packages\\pyquery\\pyquery.py:81\u001b[0m, in \u001b[0;36mfromstring\u001b[1;34m(context, parser, custom_parser)\u001b[0m\n\u001b[0;32m     79\u001b[0m     \u001b[38;5;28;01mif\u001b[39;00m \u001b[38;5;28mhasattr\u001b[39m(context, \u001b[38;5;124m'\u001b[39m\u001b[38;5;124mseek\u001b[39m\u001b[38;5;124m'\u001b[39m):\n\u001b[0;32m     80\u001b[0m         context\u001b[38;5;241m.\u001b[39mseek(\u001b[38;5;241m0\u001b[39m)\n\u001b[1;32m---> 81\u001b[0m     result \u001b[38;5;241m=\u001b[39m \u001b[38;5;28mgetattr\u001b[39m(lxml\u001b[38;5;241m.\u001b[39mhtml, meth)(context)\n\u001b[0;32m     82\u001b[0m \u001b[38;5;28;01mif\u001b[39;00m \u001b[38;5;28misinstance\u001b[39m(result, etree\u001b[38;5;241m.\u001b[39m_ElementTree):\n\u001b[0;32m     83\u001b[0m     \u001b[38;5;28;01mreturn\u001b[39;00m [result\u001b[38;5;241m.\u001b[39mgetroot()]\n",
      "File \u001b[1;32mD:\\anaconda3\\Lib\\site-packages\\lxml\\html\\__init__.py:850\u001b[0m, in \u001b[0;36mfromstring\u001b[1;34m(html, base_url, parser, **kw)\u001b[0m\n\u001b[0;32m    848\u001b[0m \u001b[38;5;28;01melse\u001b[39;00m:\n\u001b[0;32m    849\u001b[0m     is_full_html \u001b[38;5;241m=\u001b[39m _looks_like_full_html_unicode(html)\n\u001b[1;32m--> 850\u001b[0m doc \u001b[38;5;241m=\u001b[39m document_fromstring(html, parser\u001b[38;5;241m=\u001b[39mparser, base_url\u001b[38;5;241m=\u001b[39mbase_url, \u001b[38;5;241m*\u001b[39m\u001b[38;5;241m*\u001b[39mkw)\n\u001b[0;32m    851\u001b[0m \u001b[38;5;28;01mif\u001b[39;00m is_full_html:\n\u001b[0;32m    852\u001b[0m     \u001b[38;5;28;01mreturn\u001b[39;00m doc\n",
      "File \u001b[1;32mD:\\anaconda3\\Lib\\site-packages\\lxml\\html\\__init__.py:738\u001b[0m, in \u001b[0;36mdocument_fromstring\u001b[1;34m(html, parser, ensure_head_body, **kw)\u001b[0m\n\u001b[0;32m    736\u001b[0m value \u001b[38;5;241m=\u001b[39m etree\u001b[38;5;241m.\u001b[39mfromstring(html, parser, \u001b[38;5;241m*\u001b[39m\u001b[38;5;241m*\u001b[39mkw)\n\u001b[0;32m    737\u001b[0m \u001b[38;5;28;01mif\u001b[39;00m value \u001b[38;5;129;01mis\u001b[39;00m \u001b[38;5;28;01mNone\u001b[39;00m:\n\u001b[1;32m--> 738\u001b[0m     \u001b[38;5;28;01mraise\u001b[39;00m etree\u001b[38;5;241m.\u001b[39mParserError(\n\u001b[0;32m    739\u001b[0m         \u001b[38;5;124m\"\u001b[39m\u001b[38;5;124mDocument is empty\u001b[39m\u001b[38;5;124m\"\u001b[39m)\n\u001b[0;32m    740\u001b[0m \u001b[38;5;28;01mif\u001b[39;00m ensure_head_body \u001b[38;5;129;01mand\u001b[39;00m value\u001b[38;5;241m.\u001b[39mfind(\u001b[38;5;124m'\u001b[39m\u001b[38;5;124mhead\u001b[39m\u001b[38;5;124m'\u001b[39m) \u001b[38;5;129;01mis\u001b[39;00m \u001b[38;5;28;01mNone\u001b[39;00m:\n\u001b[0;32m    741\u001b[0m     value\u001b[38;5;241m.\u001b[39minsert(\u001b[38;5;241m0\u001b[39m, Element(\u001b[38;5;124m'\u001b[39m\u001b[38;5;124mhead\u001b[39m\u001b[38;5;124m'\u001b[39m))\n",
      "\u001b[1;31mParserError\u001b[0m: Document is empty"
     ]
    }
   ],
   "source": [
    "keyword = 'tree'\n",
    "res = re.get('https://unsplash.com/s/photos/tree')\n",
    "doc = pq(res.text)"
   ]
  },
  {
   "cell_type": "code",
   "execution_count": 39,
   "id": "183d68fb-7a19-454f-8189-5f6e99b917a8",
   "metadata": {},
   "outputs": [],
   "source": [
    "# my_cookies = { 'require_cookie_consent':'true', 'uuid':'3bba86b7-da62-416b-9f1c-9c1ca46afb6c', 'azk':'3bba86b7-da62-416b-9f1c-9c1ca46afb6c','zk-s':'true', 'xp-simplified-join-form':'control', 'xp-simplified-join-form-2':'control', '_sp_ses.0295':'*', '_sp_id.0295':'a7c2684e-0857-4a5b-b609-33fb8815789a.1734274090.10.1737645726.1737637287.a32b71a4-fedd-4b2d-80e5-3911d61cdcf5.09419c0e-7d55-448d-82b4-38521dca2e03.c3170e22-97bd-4332-be98-bbe60dfd7e2a.1737642053060.126',' _dd_s=logs':'1&id=0ea6e085-343b-4a8f-8341-92a17b8cf2d6&created=1737642052541&expire=1737646625873'}"
   ]
  },
  {
   "cell_type": "code",
   "execution_count": null,
   "id": "f1138415-9c13-40b8-a83d-d374e47ddfff",
   "metadata": {},
   "outputs": [],
   "source": []
  }
 ],
 "metadata": {
  "kernelspec": {
   "display_name": "Python [conda env:base] *",
   "language": "python",
   "name": "conda-base-py"
  },
  "language_info": {
   "codemirror_mode": {
    "name": "ipython",
    "version": 3
   },
   "file_extension": ".py",
   "mimetype": "text/x-python",
   "name": "python",
   "nbconvert_exporter": "python",
   "pygments_lexer": "ipython3",
   "version": "3.12.4"
  }
 },
 "nbformat": 4,
 "nbformat_minor": 5
}
