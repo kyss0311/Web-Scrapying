{
 "cells": [
  {
   "cell_type": "code",
   "execution_count": null,
   "id": "d8b3cc4a-daf0-4157-a436-580bbc3f774b",
   "metadata": {},
   "outputs": [],
   "source": [
    "'''\n",
    "• 參考範例文件指引，輸出：\n",
    "• 122.116.145.62 所在經緯度位置\n",
    "• 60.198.53.23 (簡體)中文顯示城市名\n",
    "• 改用csv格式(須包含header)，輸出當下的IP位址\n",
    "範例：https://ip-api.com/docs/api:json\n",
    "'''\n"
   ]
  },
  {
   "cell_type": "code",
   "execution_count": null,
   "id": "43830a36-27c8-4c55-bb6c-8179d5e0feb0",
   "metadata": {},
   "outputs": [],
   "source": []
  },
  {
   "cell_type": "code",
   "execution_count": 9,
   "id": "d1fcf23b-3aaa-4370-a53a-04caabd61551",
   "metadata": {},
   "outputs": [],
   "source": [
    "import requests as rq\n",
    "import json\n",
    "import csv"
   ]
  },
  {
   "cell_type": "code",
   "execution_count": 11,
   "id": "f4cdd15a-200e-4dce-b42a-1e15605304d7",
   "metadata": {},
   "outputs": [],
   "source": [
    "ip_addr = \"122.116.145.62\"\n",
    "res = rq.get(\"http://ip-api.com/json/{}?fields=lat,lon\".format(ip_addr))"
   ]
  },
  {
   "cell_type": "code",
   "execution_count": 23,
   "id": "8b42199c-843f-4d4f-9c22-806bf5673345",
   "metadata": {},
   "outputs": [
    {
     "data": {
      "text/plain": [
       "'{\"lat\":25.062,\"lon\":121.457}'"
      ]
     },
     "execution_count": 23,
     "metadata": {},
     "output_type": "execute_result"
    }
   ],
   "source": [
    "x = res.text\n",
    "x"
   ]
  },
  {
   "cell_type": "code",
   "execution_count": 25,
   "id": "682a4984-94b7-44c8-b640-5a72869643be",
   "metadata": {},
   "outputs": [
    {
     "data": {
      "text/plain": [
       "{'lat': 25.062, 'lon': 121.457}"
      ]
     },
     "execution_count": 25,
     "metadata": {},
     "output_type": "execute_result"
    }
   ],
   "source": [
    "y = json.loads(x)\n",
    "y"
   ]
  },
  {
   "cell_type": "code",
   "execution_count": 35,
   "id": "807f9464-b769-4254-a461-cf6f414f6fff",
   "metadata": {},
   "outputs": [
    {
     "name": "stdout",
     "output_type": "stream",
     "text": [
      "經度 = 121.457, 緯度 = 25.062\n"
     ]
    }
   ],
   "source": [
    "print(\"經度 = {}, 緯度 = {}\".format(y['lon'], y['lat']))"
   ]
  },
  {
   "cell_type": "code",
   "execution_count": null,
   "id": "a6a6ffcf-c85b-476c-98a5-5d076b8aa9bc",
   "metadata": {},
   "outputs": [],
   "source": []
  },
  {
   "cell_type": "code",
   "execution_count": 46,
   "id": "497df4fd-3a1f-4fbe-bff0-af00135fdd8d",
   "metadata": {},
   "outputs": [],
   "source": [
    "res = rq.get(\"http://ip-api.com/json/{}?fields=city,country&lang=zh-CN\".format(ip_addr))"
   ]
  },
  {
   "cell_type": "code",
   "execution_count": 48,
   "id": "da6d38cd-801d-4f53-9832-14e49d3eb5d7",
   "metadata": {},
   "outputs": [],
   "source": [
    "a = json.loads(res.text)"
   ]
  },
  {
   "cell_type": "code",
   "execution_count": 52,
   "id": "6c7310e1-b80a-4316-b4c4-9f39fb4ef2f1",
   "metadata": {},
   "outputs": [
    {
     "name": "stdout",
     "output_type": "stream",
     "text": [
      "國家：台湾 城市：新北\n"
     ]
    }
   ],
   "source": [
    "print(\"國家：{} 城市：{}\".format(a['country'],a['city']))"
   ]
  },
  {
   "cell_type": "code",
   "execution_count": null,
   "id": "aff4589f-ff3f-43eb-8a96-9ec60be5d574",
   "metadata": {},
   "outputs": [],
   "source": []
  },
  {
   "cell_type": "code",
   "execution_count": 89,
   "id": "6059b080-90ab-47e0-a5c1-deb4b95624b9",
   "metadata": {},
   "outputs": [],
   "source": [
    "res = rq.get(\"http://ip-api.com/csv/?header=true\")"
   ]
  },
  {
   "cell_type": "code",
   "execution_count": 115,
   "id": "c4b67e4b-dc35-49fa-a9e6-afeda8568127",
   "metadata": {},
   "outputs": [
    {
     "data": {
      "text/plain": [
       "['status,country,countryCode,region,regionName,city,zip,lat,lon,timezone,isp,org,as,query',\n",
       " 'success,Taiwan,TW,NWT,New Taipei City,New Taipei City,,25.062,121.457,Asia/Taipei,\"Chunghwa Telecom Co., Ltd.\",Chunghwa Telecom Co. Ltd.,AS3462 Data Communication Business Group,114.36.228.11']"
      ]
     },
     "execution_count": 115,
     "metadata": {},
     "output_type": "execute_result"
    }
   ],
   "source": [
    "x = res.text.splitlines()\n",
    "x"
   ]
  },
  {
   "cell_type": "code",
   "execution_count": 141,
   "id": "5ab6e10a-3525-497e-a075-efc832f308ce",
   "metadata": {},
   "outputs": [],
   "source": [
    "y = csv.reader(x)"
   ]
  },
  {
   "cell_type": "code",
   "execution_count": 143,
   "id": "2ab345d3-3873-4626-8a2d-062a268a6174",
   "metadata": {},
   "outputs": [
    {
     "data": {
      "text/plain": [
       "_csv.reader"
      ]
     },
     "execution_count": 143,
     "metadata": {},
     "output_type": "execute_result"
    }
   ],
   "source": [
    "type(y)"
   ]
  },
  {
   "cell_type": "code",
   "execution_count": 145,
   "id": "3c8760bb-9d76-4b83-93f5-07292810fb8c",
   "metadata": {},
   "outputs": [
    {
     "data": {
      "text/plain": [
       "[['status',\n",
       "  'country',\n",
       "  'countryCode',\n",
       "  'region',\n",
       "  'regionName',\n",
       "  'city',\n",
       "  'zip',\n",
       "  'lat',\n",
       "  'lon',\n",
       "  'timezone',\n",
       "  'isp',\n",
       "  'org',\n",
       "  'as',\n",
       "  'query'],\n",
       " ['success',\n",
       "  'Taiwan',\n",
       "  'TW',\n",
       "  'NWT',\n",
       "  'New Taipei City',\n",
       "  'New Taipei City',\n",
       "  '',\n",
       "  '25.062',\n",
       "  '121.457',\n",
       "  'Asia/Taipei',\n",
       "  'Chunghwa Telecom Co., Ltd.',\n",
       "  'Chunghwa Telecom Co. Ltd.',\n",
       "  'AS3462 Data Communication Business Group',\n",
       "  '114.36.228.11']]"
      ]
     },
     "execution_count": 145,
     "metadata": {},
     "output_type": "execute_result"
    }
   ],
   "source": [
    "z = list(y)\n",
    "z"
   ]
  },
  {
   "cell_type": "code",
   "execution_count": 147,
   "id": "3b30bfaf-14a9-45ae-977d-25d304e73559",
   "metadata": {},
   "outputs": [
    {
     "data": {
      "text/plain": [
       "'114.36.228.11'"
      ]
     },
     "execution_count": 147,
     "metadata": {},
     "output_type": "execute_result"
    }
   ],
   "source": [
    "z[-1][-1]"
   ]
  },
  {
   "cell_type": "code",
   "execution_count": null,
   "id": "8f431b70-1c64-4cd7-93a4-938743688918",
   "metadata": {},
   "outputs": [],
   "source": []
  },
  {
   "cell_type": "code",
   "execution_count": null,
   "id": "0958338e-948a-45d9-bfda-fc5b7745e763",
   "metadata": {},
   "outputs": [],
   "source": []
  },
  {
   "cell_type": "code",
   "execution_count": 151,
   "id": "8831a36c-f101-412a-9bde-3a3930028fd5",
   "metadata": {},
   "outputs": [
    {
     "data": {
      "text/plain": [
       "'\\n無文件的API\\n練習時間#2\\n範例：TWSE 臺灣證券交易所 - 每日市場成交資訊\\n• 先使用 requests+PyQuery 做初爬\\n• 透過 network 檢查工具，找出傳遞頁面資\\n料的 API\\n• 使用 requests 做此 API 資料請求，並處\\n理回應的資料格式\\n'"
      ]
     },
     "execution_count": 151,
     "metadata": {},
     "output_type": "execute_result"
    }
   ],
   "source": [
    "'''\n",
    "無文件的API\n",
    "練習時間#2\n",
    "範例：TWSE 臺灣證券交易所 - 每日市場成交資訊\n",
    "• 先使用 requests+PyQuery 做初爬\n",
    "• 透過 network 檢查工具，找出傳遞頁面資\n",
    "料的 API\n",
    "• 使用 requests 做此 API 資料請求，並處\n",
    "理回應的資料格式\n",
    "https://www.twse.com.tw/zh/trading/historical/fmtqik.html\n",
    "'''"
   ]
  },
  {
   "cell_type": "code",
   "execution_count": 154,
   "id": "9938d78c-9bb3-4bae-ad73-96530e6b2f46",
   "metadata": {},
   "outputs": [],
   "source": [
    "import requests as rq\n",
    "from pyquery import PyQuery as pq \n",
    "import json"
   ]
  },
  {
   "cell_type": "code",
   "execution_count": 156,
   "id": "e0587d23-38fd-40cd-b57c-11bd3b445185",
   "metadata": {},
   "outputs": [],
   "source": [
    "res = rq.get(\"https://www.twse.com.tw/zh/trading/historical/fmtqik.html\")"
   ]
  },
  {
   "cell_type": "code",
   "execution_count": 162,
   "id": "80c0c00f-7088-4ad6-8475-f02b4f3617eb",
   "metadata": {},
   "outputs": [
    {
     "data": {
      "text/plain": [
       "'\\n\\n  <div class=\"rwd-tools\">\\n    <button class=\"html\">å\\x88\\x97å\\x8d° / HTML</button>\\n    <button class=\"csv\">CSV ä¸\\x8bè¼\\x89</button>\\n  </div>\\n\\n  \\n  <hgroup>\\n    <h2/>\\n    <div class=\"hints\">\\xa0</div>\\n  </hgroup>\\n\\n  \\n  <div class=\"main-content\">\\n    <div class=\"rwd-table dragscroll sortable F1 R2_\"/>\\n  </div>\\n\\n  \\n  <div class=\"rwd-notes\"/>\\n\\n'"
      ]
     },
     "execution_count": 162,
     "metadata": {},
     "output_type": "execute_result"
    }
   ],
   "source": [
    "doc = pq(res.text)\n",
    "doc(\"#reports\").html()"
   ]
  },
  {
   "cell_type": "code",
   "execution_count": 179,
   "id": "d5383fdc-eda7-4e27-a545-5ffa87a986ca",
   "metadata": {},
   "outputs": [
    {
     "data": {
      "text/plain": [
       "1737887511.5250337"
      ]
     },
     "execution_count": 179,
     "metadata": {},
     "output_type": "execute_result"
    }
   ],
   "source": [
    "# 時間字串\n",
    "#  1737885982259\n",
    "import time\n",
    "time.time()"
   ]
  },
  {
   "cell_type": "code",
   "execution_count": 183,
   "id": "b3602bdb-57c5-4d2a-accf-438d2e542c28",
   "metadata": {},
   "outputs": [
    {
     "name": "stdout",
     "output_type": "stream",
     "text": [
      "1737887638917\n"
     ]
    }
   ],
   "source": [
    "print(str(time.time()).replace('.','')[:13])\n",
    "now = str(time.time()).replace('.','')[:13]"
   ]
  },
  {
   "cell_type": "code",
   "execution_count": 199,
   "id": "c45b937f-825a-4d6c-8f19-8844cd2f8060",
   "metadata": {},
   "outputs": [],
   "source": [
    "res = rq.get(\"https://www.twse.com.tw/rwd/zh/afterTrading/FMTQIK?response=json&date=20241201&_={}\".format(now))\n",
    "# 可以修改date後面的數字來改必找的月份 不輸入date的值就會輸出當月"
   ]
  },
  {
   "cell_type": "code",
   "execution_count": 201,
   "id": "07994300-eb99-40e1-a0a9-05c20e222aa2",
   "metadata": {},
   "outputs": [
    {
     "data": {
      "text/plain": [
       "'{\"stat\":\"OK\",\"date\":\"20241201\",\"title\":\"113年12月市場成交資訊\",\"hints\":\"單位：元、股\",\"fields\":[\"日期\",\"成交股數\",\"成交金額\",\"成交筆數\",\"發行量加權股價指數\",\"漲跌點數\"],\"data\":[[\"113/12/02\",\"6,539,080,603\",\"319,505,000,963\",\"2,137,887\",\"22,736.93\",\"474.43\"],[\"113/12/03\",\"8,437,009,244\",\"404,254,973,157\",\"2,580,828\",\"23,027.46\",\"290.53\"],[\"113/12/04\",\"7,115,251,523\",\"367,010,903,277\",\"2,374,283\",\"23,255.33\",\"227.87\"],[\"113/12/05\",\"6,865,840,875\",\"385,870,250,881\",\"2,460,302\",\"23,267.94\",\"12.61\"],[\"113/12/06\",\"6,678,931,631\",\"370,462,134,170\",\"2,492,117\",\"23,193.27\",\"-74.67\"],[\"113/12/09\",\"6,787,692,853\",\"369,738,050,330\",\"2,587,883\",\"23,273.25\",\"79.98\"],[\"113/12/10\",\"6,780,099,371\",\"356,364,627,908\",\"2,447,807\",\"23,125.08\",\"-148.17\"],[\"113/12/11\",\"6,353,873,390\",\"339,359,773,405\",\"2,445,027\",\"22,903.63\",\"-221.45\"],[\"113/12/12\",\"6,832,459,195\",\"361,573,943,620\",\"2,419,136\",\"23,046.80\",\"143.17\"],[\"113/12/13\",\"6,829,297,118\",\"355,185,043,778\",\"2,608,074\",\"23,020.48\",\"-26.32\"],[\"113/12/16\",\"6,906,349,717\",\"422,293,280,364\",\"2,828,255\",\"23,039.90\",\"19.42\"],[\"113/12/17\",\"7,111,819,945\",\"410,745,816,406\",\"2,625,995\",\"23,018.01\",\"-21.89\"],[\"113/12/18\",\"7,096,609,059\",\"411,463,787,574\",\"2,568,872\",\"23,168.67\",\"150.66\"],[\"113/12/19\",\"7,634,774,939\",\"422,126,123,640\",\"2,951,249\",\"22,932.25\",\"-236.42\"],[\"113/12/20\",\"8,492,203,563\",\"479,604,508,208\",\"3,143,719\",\"22,510.25\",\"-422.00\"],[\"113/12/23\",\"6,879,560,649\",\"361,211,114,769\",\"2,319,424\",\"23,104.54\",\"594.29\"],[\"113/12/24\",\"6,550,529,457\",\"347,257,591,668\",\"2,402,633\",\"23,120.24\",\"15.70\"],[\"113/12/25\",\"5,918,131,269\",\"310,444,641,888\",\"2,175,250\",\"23,220.13\",\"99.89\"],[\"113/12/26\",\"5,748,734,408\",\"306,847,345,495\",\"2,230,345\",\"23,246.94\",\"26.81\"],[\"113/12/27\",\"5,282,782,893\",\"292,616,349,470\",\"2,070,715\",\"23,275.68\",\"28.74\"],[\"113/12/30\",\"5,188,922,650\",\"274,794,064,764\",\"2,046,535\",\"23,190.20\",\"-85.48\"],[\"113/12/31\",\"5,527,015,517\",\"273,480,515,893\",\"2,082,110\",\"23,035.10\",\"-155.10\"]],\"notes\":[\"當日統計資訊含大盤、零股、盤後定價及鉅額交易，不含拍賣、標購。\",\"外幣成交值係以本公司當日下午3時30分公告匯率換算後加入成交金額。公告匯率請參考本公司首頁>產品與服務>交易系統>雙幣ETF專區>代號對應及每日公告匯率。\"]}'"
      ]
     },
     "execution_count": 201,
     "metadata": {},
     "output_type": "execute_result"
    }
   ],
   "source": [
    "res.text"
   ]
  },
  {
   "cell_type": "code",
   "execution_count": 203,
   "id": "c2c47376-99d1-457a-aa70-cd567a04e9de",
   "metadata": {},
   "outputs": [
    {
     "data": {
      "text/plain": [
       "{'stat': 'OK',\n",
       " 'date': '20241201',\n",
       " 'title': '113年12月市場成交資訊',\n",
       " 'hints': '單位：元、股',\n",
       " 'fields': ['日期', '成交股數', '成交金額', '成交筆數', '發行量加權股價指數', '漲跌點數'],\n",
       " 'data': [['113/12/02',\n",
       "   '6,539,080,603',\n",
       "   '319,505,000,963',\n",
       "   '2,137,887',\n",
       "   '22,736.93',\n",
       "   '474.43'],\n",
       "  ['113/12/03',\n",
       "   '8,437,009,244',\n",
       "   '404,254,973,157',\n",
       "   '2,580,828',\n",
       "   '23,027.46',\n",
       "   '290.53'],\n",
       "  ['113/12/04',\n",
       "   '7,115,251,523',\n",
       "   '367,010,903,277',\n",
       "   '2,374,283',\n",
       "   '23,255.33',\n",
       "   '227.87'],\n",
       "  ['113/12/05',\n",
       "   '6,865,840,875',\n",
       "   '385,870,250,881',\n",
       "   '2,460,302',\n",
       "   '23,267.94',\n",
       "   '12.61'],\n",
       "  ['113/12/06',\n",
       "   '6,678,931,631',\n",
       "   '370,462,134,170',\n",
       "   '2,492,117',\n",
       "   '23,193.27',\n",
       "   '-74.67'],\n",
       "  ['113/12/09',\n",
       "   '6,787,692,853',\n",
       "   '369,738,050,330',\n",
       "   '2,587,883',\n",
       "   '23,273.25',\n",
       "   '79.98'],\n",
       "  ['113/12/10',\n",
       "   '6,780,099,371',\n",
       "   '356,364,627,908',\n",
       "   '2,447,807',\n",
       "   '23,125.08',\n",
       "   '-148.17'],\n",
       "  ['113/12/11',\n",
       "   '6,353,873,390',\n",
       "   '339,359,773,405',\n",
       "   '2,445,027',\n",
       "   '22,903.63',\n",
       "   '-221.45'],\n",
       "  ['113/12/12',\n",
       "   '6,832,459,195',\n",
       "   '361,573,943,620',\n",
       "   '2,419,136',\n",
       "   '23,046.80',\n",
       "   '143.17'],\n",
       "  ['113/12/13',\n",
       "   '6,829,297,118',\n",
       "   '355,185,043,778',\n",
       "   '2,608,074',\n",
       "   '23,020.48',\n",
       "   '-26.32'],\n",
       "  ['113/12/16',\n",
       "   '6,906,349,717',\n",
       "   '422,293,280,364',\n",
       "   '2,828,255',\n",
       "   '23,039.90',\n",
       "   '19.42'],\n",
       "  ['113/12/17',\n",
       "   '7,111,819,945',\n",
       "   '410,745,816,406',\n",
       "   '2,625,995',\n",
       "   '23,018.01',\n",
       "   '-21.89'],\n",
       "  ['113/12/18',\n",
       "   '7,096,609,059',\n",
       "   '411,463,787,574',\n",
       "   '2,568,872',\n",
       "   '23,168.67',\n",
       "   '150.66'],\n",
       "  ['113/12/19',\n",
       "   '7,634,774,939',\n",
       "   '422,126,123,640',\n",
       "   '2,951,249',\n",
       "   '22,932.25',\n",
       "   '-236.42'],\n",
       "  ['113/12/20',\n",
       "   '8,492,203,563',\n",
       "   '479,604,508,208',\n",
       "   '3,143,719',\n",
       "   '22,510.25',\n",
       "   '-422.00'],\n",
       "  ['113/12/23',\n",
       "   '6,879,560,649',\n",
       "   '361,211,114,769',\n",
       "   '2,319,424',\n",
       "   '23,104.54',\n",
       "   '594.29'],\n",
       "  ['113/12/24',\n",
       "   '6,550,529,457',\n",
       "   '347,257,591,668',\n",
       "   '2,402,633',\n",
       "   '23,120.24',\n",
       "   '15.70'],\n",
       "  ['113/12/25',\n",
       "   '5,918,131,269',\n",
       "   '310,444,641,888',\n",
       "   '2,175,250',\n",
       "   '23,220.13',\n",
       "   '99.89'],\n",
       "  ['113/12/26',\n",
       "   '5,748,734,408',\n",
       "   '306,847,345,495',\n",
       "   '2,230,345',\n",
       "   '23,246.94',\n",
       "   '26.81'],\n",
       "  ['113/12/27',\n",
       "   '5,282,782,893',\n",
       "   '292,616,349,470',\n",
       "   '2,070,715',\n",
       "   '23,275.68',\n",
       "   '28.74'],\n",
       "  ['113/12/30',\n",
       "   '5,188,922,650',\n",
       "   '274,794,064,764',\n",
       "   '2,046,535',\n",
       "   '23,190.20',\n",
       "   '-85.48'],\n",
       "  ['113/12/31',\n",
       "   '5,527,015,517',\n",
       "   '273,480,515,893',\n",
       "   '2,082,110',\n",
       "   '23,035.10',\n",
       "   '-155.10']],\n",
       " 'notes': ['當日統計資訊含大盤、零股、盤後定價及鉅額交易，不含拍賣、標購。',\n",
       "  '外幣成交值係以本公司當日下午3時30分公告匯率換算後加入成交金額。公告匯率請參考本公司首頁>產品與服務>交易系統>雙幣ETF專區>代號對應及每日公告匯率。']}"
      ]
     },
     "execution_count": 203,
     "metadata": {},
     "output_type": "execute_result"
    }
   ],
   "source": [
    "stockDict = json.loads(res.text)\n",
    "stockDict"
   ]
  },
  {
   "cell_type": "code",
   "execution_count": null,
   "id": "ed95037c-4c99-476f-9c14-eecc65a0f727",
   "metadata": {},
   "outputs": [],
   "source": []
  },
  {
   "cell_type": "code",
   "execution_count": null,
   "id": "338056d0-2fbe-4644-b319-b76bf0074825",
   "metadata": {},
   "outputs": [],
   "source": []
  }
 ],
 "metadata": {
  "kernelspec": {
   "display_name": "Python [conda env:base] *",
   "language": "python",
   "name": "conda-base-py"
  },
  "language_info": {
   "codemirror_mode": {
    "name": "ipython",
    "version": 3
   },
   "file_extension": ".py",
   "mimetype": "text/x-python",
   "name": "python",
   "nbconvert_exporter": "python",
   "pygments_lexer": "ipython3",
   "version": "3.12.4"
  }
 },
 "nbformat": 4,
 "nbformat_minor": 5
}
