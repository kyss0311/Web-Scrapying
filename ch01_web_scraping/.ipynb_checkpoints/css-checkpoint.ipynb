{
 "cells": [
  {
   "cell_type": "code",
   "execution_count": 1,
   "id": "352ff823-4828-44f6-878f-26ca6a05a3ed",
   "metadata": {},
   "outputs": [],
   "source": [
    "import requests\n",
    "from pyquery import PyQuery as pq"
   ]
  },
  {
   "cell_type": "code",
   "execution_count": 3,
   "id": "fd904241-a7ce-48f0-81a6-7c032a403747",
   "metadata": {},
   "outputs": [],
   "source": [
    "res = requests.get(\"https://webscraper.io/test-sites/e-commerce/allinone\")"
   ]
  },
  {
   "cell_type": "code",
   "execution_count": 5,
   "id": "30dc39c6-c652-4222-974c-0c418ec8ce56",
   "metadata": {},
   "outputs": [],
   "source": [
    "doc = pq(res.text)"
   ]
  },
  {
   "cell_type": "code",
   "execution_count": 46,
   "id": "b3b6ab28-8f00-4dbc-8d2c-ad0532a8be17",
   "metadata": {},
   "outputs": [
    {
     "data": {
      "text/plain": [
       "[<h2>]"
      ]
     },
     "execution_count": 46,
     "metadata": {},
     "output_type": "execute_result"
    }
   ],
   "source": [
    "# 標籤選擇器\n",
    "doc(\"h2\")"
   ]
  },
  {
   "cell_type": "code",
   "execution_count": 11,
   "id": "2e8f5feb-ed5e-48c3-94f2-a1bd7fb3eaea",
   "metadata": {},
   "outputs": [
    {
     "data": {
      "text/plain": [
       "'Top items being scraped right now'"
      ]
     },
     "execution_count": 11,
     "metadata": {},
     "output_type": "execute_result"
    }
   ],
   "source": [
    "doc(\"h3\").html()"
   ]
  },
  {
   "cell_type": "code",
   "execution_count": 44,
   "id": "73e71102-6dab-41ab-bae8-9aa1034ca266",
   "metadata": {},
   "outputs": [
    {
     "data": {
      "text/plain": [
       "[<nav#navbar.navbar-collapse.collapse>, <div.navbar-light.sidebar>]"
      ]
     },
     "execution_count": 44,
     "metadata": {},
     "output_type": "execute_result"
    }
   ],
   "source": [
    "# 屬性選擇器\n",
    "doc('[role=\"navigation\"]')"
   ]
  },
  {
   "cell_type": "code",
   "execution_count": 48,
   "id": "4170db75-9fd8-4852-82d6-775e40b69ea5",
   "metadata": {
    "scrolled": true
   },
   "outputs": [
    {
     "data": {
      "text/plain": [
       "[<h4.price.float-end.card-title.pull-right>, <h4.price.float-end.card-title.pull-right>, <h4.price.float-end.card-title.pull-right>]"
      ]
     },
     "execution_count": 48,
     "metadata": {},
     "output_type": "execute_result"
    }
   ],
   "source": [
    "# 類別(Class)選擇器\n",
    "doc('.price')"
   ]
  },
  {
   "cell_type": "code",
   "execution_count": 50,
   "id": "162aeade-e199-4c79-b917-3c1221e7df79",
   "metadata": {},
   "outputs": [
    {
     "data": {
      "text/plain": [
       "[<ul#side-menu.nav.flex-column>]"
      ]
     },
     "execution_count": 50,
     "metadata": {},
     "output_type": "execute_result"
    }
   ],
   "source": [
    "# ID選擇器\n",
    "doc(\"#side-menu\")"
   ]
  },
  {
   "cell_type": "code",
   "execution_count": 54,
   "id": "c7ab6e05-ab41-4a79-9467-e4a0bfe6006d",
   "metadata": {},
   "outputs": [
    {
     "data": {
      "text/plain": [
       "[<ul#side-menu.nav.flex-column>, <div#layout-footer.container-fluid.footer>]"
      ]
     },
     "execution_count": 54,
     "metadata": {},
     "output_type": "execute_result"
    }
   ],
   "source": [
    "# 用逗號 , 連接選擇器\n",
    "doc(\".footer, #side-menu\")"
   ]
  },
  {
   "cell_type": "code",
   "execution_count": 55,
   "id": "8c8e7207-bce4-4112-b4ea-bc9ae29d309f",
   "metadata": {},
   "outputs": [
    {
     "data": {
      "text/plain": [
       "[<li.nav-item..active.>, <li.nav-item.>, <li.nav-item.>]"
      ]
     },
     "execution_count": 55,
     "metadata": {},
     "output_type": "execute_result"
    }
   ],
   "source": [
    "# 選擇 #side-menu 下一層的 li\n",
    "doc(\"#side-menu>li\")"
   ]
  },
  {
   "cell_type": "code",
   "execution_count": 56,
   "id": "a5de21e4-ce5a-4262-9a14-f81fe980aed5",
   "metadata": {},
   "outputs": [
    {
     "data": {
      "text/plain": [
       "[<a.nav-link>, <a.category-link.nav-link.>, <a.category-link.nav-link.>]"
      ]
     },
     "execution_count": 56,
     "metadata": {},
     "output_type": "execute_result"
    }
   ],
   "source": [
    "# 選擇 #side-menu 底閜所有的 a\n",
    "doc(\"#side-menu a\")"
   ]
  },
  {
   "cell_type": "code",
   "execution_count": 62,
   "id": "e42a4a1d-fa92-4749-ba90-086011de96e6",
   "metadata": {},
   "outputs": [
    {
     "data": {
      "text/plain": [
       "[<div.caption>, <div.caption>, <div.caption>]"
      ]
     },
     "execution_count": 62,
     "metadata": {},
     "output_type": "execute_result"
    }
   ],
   "source": [
    "# 找到跟 img 同一層的下一個 div\n",
    "doc('img+div')"
   ]
  },
  {
   "cell_type": "code",
   "execution_count": 72,
   "id": "a69fe0cf-0962-4776-9a7a-f3696203da97",
   "metadata": {},
   "outputs": [
    {
     "data": {
      "text/plain": [
       "[<div.caption>, <div.ratings>, <div.caption>, <div.ratings>, <div.caption>, <div.ratings>]"
      ]
     },
     "execution_count": 72,
     "metadata": {},
     "output_type": "execute_result"
    }
   ],
   "source": [
    "# 找到跟 img 同一層往後的所有 div\n",
    "doc('img~div')"
   ]
  },
  {
   "cell_type": "code",
   "execution_count": 74,
   "id": "684bbe45-73dc-4406-95ef-85949ea80f38",
   "metadata": {},
   "outputs": [
    {
     "data": {
      "text/plain": [
       "[<noscript>, <header#navbar-top.navbar.fixed-top.navbar-expand-lg.navbar-dark.navbar-static.svg-background>, <div.wrapper>, <div#layout-footer.container-fluid.footer>]"
      ]
     },
     "execution_count": 74,
     "metadata": {},
     "output_type": "execute_result"
    }
   ],
   "source": [
    "# 找到 body 下一層的所有標籤\n",
    "doc('body>*')"
   ]
  },
  {
   "cell_type": "code",
   "execution_count": 76,
   "id": "6cbecd54-3e4c-42d9-bf45-857172a2651a",
   "metadata": {},
   "outputs": [
    {
     "data": {
      "text/plain": [
       "[<noscript>, <iframe>, <header#navbar-top.navbar.fixed-top.navbar-expand-lg.navbar-dark.navbar-static.svg-background>, <div.container>, <div.navbar-header>, <a>, <button.navbar-toggler.float-end.collapsed>, <span.visually-hidden>, <span.icon-bar.top-bar>, <span.icon-bar.middle-bar>, <span.icon-bar.bottom-bar>, <span.icon-bar.extra-bottom-bar>, <div.navbar-brand>, <a>, <img>, <div.side-collapse.in>, <nav#navbar.navbar-collapse.collapse>, <ul.nav.navbar-nav.navbar-right>, <li.nav-item>, <a.nav-link.menuitm>, <p>, <div.crta>, <li.nav-item>, <a#cloud-nav-link.nav-link.menuitm>, <p>, <div.crta>, <li.nav-item>, <a#pricing-nav-link.nav-link.menuitm>, <p>, <div.crta>, <li.nav-item.dropdown>, <button#dropdownMenuLink.menuitm.nav-link.dropdown-toggle>, <p>, <span.crta>, <ul.dropdown-menu>, <li>, <a.dropdown-item>, <li>, <a.dropdown-item>, <li>, <a.dropdown-item>, <li>, <a.dropdown-item>, <li>, <a.dropdown-item>, <li.nav-item>, <a.nav-link.btn-menu1.install-extension>, <li.nav-item>, <a.nav-link.btn-menu2>, <div.wrapper>, <div.formenu-here.container-fluid>, <div.container-fluid.blog-hero>, <div.container>, <div.row>, <div.col-lg-12>, <h1>, <div.container.test-site>, <div.row>, <div.col-lg-3.sidebar>, <div.navbar-light.sidebar>, <div.sidebar-nav.navbar-collapse>, <ul#side-menu.nav.flex-column>, <li.nav-item..active.>, <a.nav-link>, <li.nav-item.>, <a.category-link.nav-link.>, <i.ws-icon..ws-icon-right.>, <li.nav-item.>, <a.category-link.nav-link.>, <i.ws-icon..ws-icon-right.>, <div.col-lg-9>, <div.jumbotron>, <h2>, <p.lead>, <h3>, <div.row>, <div.col-md-4.col-xl-4.col-lg-4>, <div.card.thumbnail>, <div.product-wrapper.card-body>, <img.img-fluid.card-img-top.image.img-responsive>, <div.caption>, <h4.price.float-end.card-title.pull-right>, <h4>, <a.title>, <p.description.card-text>, <div.ratings>, <p.review-count.float-end>, <p>, <span.ws-icon.ws-icon-star>, <span.ws-icon.ws-icon-star>, <span.ws-icon.ws-icon-star>, <div.col-md-4.col-xl-4.col-lg-4>, <div.card.thumbnail>, <div.product-wrapper.card-body>, <img.img-fluid.card-img-top.image.img-responsive>, <div.caption>, <h4.price.float-end.card-title.pull-right>, <h4>, <a.title>, <p.description.card-text>, <div.ratings>, <p.review-count.float-end>, <p>, <span.ws-icon.ws-icon-star>, <span.ws-icon.ws-icon-star>, <span.ws-icon.ws-icon-star>, <div.col-md-4.col-xl-4.col-lg-4>, <div.card.thumbnail>, <div.product-wrapper.card-body>, <img.img-fluid.card-img-top.image.img-responsive>, <div.caption>, <h4.price.float-end.card-title.pull-right>, <h4>, <a.title>, <p.description.card-text>, <div.ratings>, <p.review-count.float-end>, <p>, <span.ws-icon.ws-icon-star>, <span.ws-icon.ws-icon-star>, <span.ws-icon.ws-icon-star>, <div#static-pagination>, <div.clearfix>, <div.push>, <div#layout-footer.container-fluid.footer>, <div.container>, <div.row>, <div.col-lg-3>, <ul>, <li>, <p>, <li>, <a>, <li>, <a>, <div.col-lg-3>, <ul>, <li>, <p>, <li>, <a>, <li>, <a>, <li>, <a>, <li>, <a>, <li>, <a>, <li>, <a>, <div.col-lg-3>, <ul>, <li>, <p>, <li>, <a>, <li>, <a>, <li>, <a>, <li>, <a>, <li>, <a>, <li>, <a>, <li>, <a>, <div.col-lg-3>, <ul>, <li>, <p>, <li>, <a>, <li>, <br>, <ul.smedia>, <li>, <a>, <i.ws-icon.ws-icon-facebook-f>, <li>, <a>, <i.ws-icon.ws-icon-twitter>, <li>, <a>, <i.ws-icon.ws-icon-linkedin>, <li>, <a>, <i.ws-icon.ws-icon-youtube>, <li>, <a.install-extension.browser-icon-dark>, <i.ws-icon.ws-icon-chrome-dark>, <div.row>, <div.col-lg-12>, <p.copyright>, <b>]"
      ]
     },
     "execution_count": 76,
     "metadata": {},
     "output_type": "execute_result"
    }
   ],
   "source": [
    "# 找到 body 底下所有標籤\n",
    "doc('body *')"
   ]
  },
  {
   "cell_type": "code",
   "execution_count": null,
   "id": "cbcb6de5-1315-4e53-82f8-c21d93297ad2",
   "metadata": {},
   "outputs": [],
   "source": []
  }
 ],
 "metadata": {
  "kernelspec": {
   "display_name": "Python [conda env:base] *",
   "language": "python",
   "name": "conda-base-py"
  },
  "language_info": {
   "codemirror_mode": {
    "name": "ipython",
    "version": 3
   },
   "file_extension": ".py",
   "mimetype": "text/x-python",
   "name": "python",
   "nbconvert_exporter": "python",
   "pygments_lexer": "ipython3",
   "version": "3.12.4"
  }
 },
 "nbformat": 4,
 "nbformat_minor": 5
}
