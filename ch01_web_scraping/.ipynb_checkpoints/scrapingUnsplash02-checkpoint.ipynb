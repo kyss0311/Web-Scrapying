{
 "cells": [
  {
   "cell_type": "code",
   "execution_count": 1,
   "id": "489ee75c-e152-4a12-a52f-b63474d4ee74",
   "metadata": {},
   "outputs": [],
   "source": [
    "# unsplash會阻擋 所以無法執行\n",
    "import requests\n",
    "from pyquery import PyQuery as pq\n",
    "import os"
   ]
  },
  {
   "cell_type": "code",
   "execution_count": null,
   "id": "c18fe9db-bcc6-4774-bef3-eadad468d774",
   "metadata": {},
   "outputs": [],
   "source": [
    "keyword = \"earth\"\n",
    "response = requests.get(\"https://unsplash.com/s/photos/{}\".format(keyword))\n",
    "doc = pq(response.text)"
   ]
  },
  {
   "cell_type": "code",
   "execution_count": null,
   "id": "7ee6be70-f516-4665-884a-f516b58a122f",
   "metadata": {},
   "outputs": [],
   "source": [
    "doc.html()"
   ]
  },
  {
   "cell_type": "code",
   "execution_count": null,
   "id": "406317d7-7cbe-4c68-88cc-34da9b05a227",
   "metadata": {},
   "outputs": [],
   "source": [
    "img_path =\"/Users/kevinljw/ntu-pys/images-{}\".format(keyword)\n",
    "os.makedirs( img_path , exist_ok=True)"
   ]
  },
  {
   "cell_type": "code",
   "execution_count": null,
   "id": "9ce418c0-3dce-46ac-a7e1-3211b03a49f5",
   "metadata": {},
   "outputs": [],
   "source": [
    "imgCollection = []\n",
    "order = 0\n",
    "for eachImgDoc in doc(\"figure a\").items():\n",
    "    if len(imgCollection)>=10:\n",
    "        break\n",
    "    if '/photos' != eachImgDoc.attr(\"href\") [:7]:\n",
    "        continue\n",
    "    order+=1\n",
    "    resImg = None\n",
    "    for i in range(3):\n",
    "        try:\n",
    "            resImg = requests.get(imgDict['img_page_url'], timeout=5)\n",
    "            break\n",
    "        except:\n",
    "            print(\"timeout\")\n",
    "    if not resImg:\n",
    "        continue\n",
    "    imgDoc = pq(resImg.text)\n",
    "\n",
    "    imgDict = {}\n",
    "    imgDict['img_page_url'] = \"https://unsplash.com\"+eachImgDoc.attr(\"href\")\n",
    "    \n",
    "    author_name = imgDoc(\"header span span a\").text ()\n",
    "    imgDict['author'] = author_name if author_name else \"unsplash+\"\n",
    "\n",
    "    imgDict['img_src_url'] = imgDoc(\"button img\").attr(\"srcset\").split(\" \")[0]\n",
    "    res = None\n",
    "    for i in range(3):\n",
    "        try:\n",
    "            res = requests.get(imgDict ['img_src_url'], timeout=5)\n",
    "            break\n",
    "        except:\n",
    "            print(\"timeout\")\n",
    "    if not res:\n",
    "        continue\n",
    "\n",
    "    with open( img_path+\"/{}-{}.jpg\".format(keyword, order) , 'wb' ) as f0bj:\n",
    "        f0bj.write( res.content )\n",
    "\n",
    "    imgDict['datetime'] = imgDoc(\"span>time\").attr(\"datetime\")\n",
    "\n",
    "    imgCollection.append(imgDict)"
   ]
  }
 ],
 "metadata": {
  "kernelspec": {
   "display_name": "Python [conda env:base] *",
   "language": "python",
   "name": "conda-base-py"
  },
  "language_info": {
   "codemirror_mode": {
    "name": "ipython",
    "version": 3
   },
   "file_extension": ".py",
   "mimetype": "text/x-python",
   "name": "python",
   "nbconvert_exporter": "python",
   "pygments_lexer": "ipython3",
   "version": "3.12.4"
  }
 },
 "nbformat": 4,
 "nbformat_minor": 5
}
