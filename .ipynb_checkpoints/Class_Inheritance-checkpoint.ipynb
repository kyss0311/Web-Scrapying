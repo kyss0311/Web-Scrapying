{
 "cells": [
  {
   "cell_type": "code",
   "execution_count": 5,
   "id": "c3c39816-54b8-404e-bb26-4fdab3a95d85",
   "metadata": {},
   "outputs": [],
   "source": [
    "class Parent():\n",
    "    def __init__(self):\n",
    "        self.face = {'eyes':2,'ears':2,'mouth':1,'nose':1}\n",
    "        self.last_name = 'Yang'\n",
    "        self.first_name = 'Kevin'\n",
    "    def speak(self):\n",
    "        print('Chinese')\n",
    "\n",
    "class Child(Parent):\n",
    "    def speak(self):\n",
    "        print('Chinese, English')"
   ]
  },
  {
   "cell_type": "code",
   "execution_count": 7,
   "id": "df704f1e-55d5-46f7-bbae-0a6574365b89",
   "metadata": {},
   "outputs": [],
   "source": [
    "dad = Parent()\n",
    "son = Child()\n",
    "daughter = Child()"
   ]
  },
  {
   "cell_type": "code",
   "execution_count": 9,
   "id": "58343982-abf3-464d-a420-7734f879e010",
   "metadata": {},
   "outputs": [
    {
     "data": {
      "text/plain": [
       "{'eyes': 2, 'ears': 2, 'mouth': 1, 'nose': 1}"
      ]
     },
     "execution_count": 9,
     "metadata": {},
     "output_type": "execute_result"
    }
   ],
   "source": [
    "dad.face"
   ]
  },
  {
   "cell_type": "code",
   "execution_count": 11,
   "id": "7dfd3732-2e82-4a3a-acce-c419913a4ae6",
   "metadata": {},
   "outputs": [
    {
     "data": {
      "text/plain": [
       "({'eyes': 2, 'ears': 2, 'mouth': 1, 'nose': 1},\n",
       " {'eyes': 2, 'ears': 2, 'mouth': 1, 'nose': 1})"
      ]
     },
     "execution_count": 11,
     "metadata": {},
     "output_type": "execute_result"
    }
   ],
   "source": [
    "son.face,daughter.face"
   ]
  },
  {
   "cell_type": "code",
   "execution_count": 13,
   "id": "60208061-e3ae-4f45-aab3-970d231129b3",
   "metadata": {},
   "outputs": [
    {
     "data": {
      "text/plain": [
       "'Yang'"
      ]
     },
     "execution_count": 13,
     "metadata": {},
     "output_type": "execute_result"
    }
   ],
   "source": [
    "son.last_name\n"
   ]
  },
  {
   "cell_type": "code",
   "execution_count": 17,
   "id": "14458a92-7f5b-4830-bb6f-2f6924ce79b4",
   "metadata": {},
   "outputs": [
    {
     "name": "stdout",
     "output_type": "stream",
     "text": [
      "Chinese, English\n"
     ]
    }
   ],
   "source": [
    "son.speak()"
   ]
  },
  {
   "cell_type": "code",
   "execution_count": 56,
   "id": "5fb3940c-2530-4a46-aa84-8caad515a87c",
   "metadata": {},
   "outputs": [],
   "source": [
    "class Parent():\n",
    "    def __init__(self, first_name):\n",
    "        self.face = {'eyes':2,'ears':2,'mouth':1,'nose':1}\n",
    "        self.first_name = first_name\n",
    "        self.last_name = 'Yang'\n",
    "        \n",
    "    def speak(self):\n",
    "        print('Chinese')\n",
    "\n",
    "class Child(Parent):\n",
    "    def __init__(self, first_name):\n",
    "        super().__init__(first_name)  #super().基礎類別的方法 就可以呼叫基礎類別的方法\n",
    "            \n",
    "    def speak(self):\n",
    "        print(self.first_name,'can speak in：')\n",
    "        super().speak()  "
   ]
  },
  {
   "cell_type": "code",
   "execution_count": 58,
   "id": "d93accfa-5de6-4860-90f5-c30014055683",
   "metadata": {},
   "outputs": [],
   "source": [
    "dad = Parent(\"Kevin\")\n",
    "son = Child(\"paul\")\n",
    "daughter = Child(\"molly\")"
   ]
  },
  {
   "cell_type": "code",
   "execution_count": 60,
   "id": "78301b27-3350-46d0-ab6c-36cbaca2524c",
   "metadata": {},
   "outputs": [
    {
     "data": {
      "text/plain": [
       "{'eyes': 2, 'ears': 2, 'mouth': 1, 'nose': 1}"
      ]
     },
     "execution_count": 60,
     "metadata": {},
     "output_type": "execute_result"
    }
   ],
   "source": [
    "dad.face"
   ]
  },
  {
   "cell_type": "code",
   "execution_count": 62,
   "id": "8c9a1ac6-7791-4cc4-b8d7-b9e6cccc95b7",
   "metadata": {},
   "outputs": [
    {
     "data": {
      "text/plain": [
       "({'eyes': 2, 'ears': 2, 'mouth': 1, 'nose': 1},\n",
       " {'eyes': 2, 'ears': 2, 'mouth': 1, 'nose': 1})"
      ]
     },
     "execution_count": 62,
     "metadata": {},
     "output_type": "execute_result"
    }
   ],
   "source": [
    "son.face,daughter.face"
   ]
  },
  {
   "cell_type": "code",
   "execution_count": 46,
   "id": "1dedf3f8-2490-4c9e-bac6-138bc98c3520",
   "metadata": {},
   "outputs": [
    {
     "data": {
      "text/plain": [
       "'Yang'"
      ]
     },
     "execution_count": 46,
     "metadata": {},
     "output_type": "execute_result"
    }
   ],
   "source": [
    "son.last_name\n"
   ]
  },
  {
   "cell_type": "code",
   "execution_count": 48,
   "id": "b46e6bce-3953-442e-b065-15dd7c0bed62",
   "metadata": {},
   "outputs": [
    {
     "data": {
      "text/plain": [
       "'paul'"
      ]
     },
     "execution_count": 48,
     "metadata": {},
     "output_type": "execute_result"
    }
   ],
   "source": [
    "son.first_name"
   ]
  },
  {
   "cell_type": "code",
   "execution_count": 50,
   "id": "c2acb71b-3a8c-4749-a8ff-c7c4b20f7e9b",
   "metadata": {},
   "outputs": [
    {
     "data": {
      "text/plain": [
       "'molly'"
      ]
     },
     "execution_count": 50,
     "metadata": {},
     "output_type": "execute_result"
    }
   ],
   "source": [
    "daughter.first_name"
   ]
  },
  {
   "cell_type": "code",
   "execution_count": 52,
   "id": "802ceae7-d75e-4bd7-8d56-6719880d723d",
   "metadata": {},
   "outputs": [
    {
     "name": "stdout",
     "output_type": "stream",
     "text": [
      "paul can speak in：\n",
      "Chinese\n"
     ]
    }
   ],
   "source": [
    "son.speak()"
   ]
  },
  {
   "cell_type": "code",
   "execution_count": 54,
   "id": "a07dff9d-8488-486a-aa51-7c937e3eb17d",
   "metadata": {},
   "outputs": [
    {
     "name": "stdout",
     "output_type": "stream",
     "text": [
      "molly can speak in：\n",
      "Chinese\n"
     ]
    }
   ],
   "source": [
    "daughter.speak()"
   ]
  },
  {
   "cell_type": "code",
   "execution_count": null,
   "id": "5ff2f394-a35c-416a-bd97-9ddfeab32a6e",
   "metadata": {},
   "outputs": [],
   "source": []
  }
 ],
 "metadata": {
  "kernelspec": {
   "display_name": "Python 3 (ipykernel)",
   "language": "python",
   "name": "python3"
  },
  "language_info": {
   "codemirror_mode": {
    "name": "ipython",
    "version": 3
   },
   "file_extension": ".py",
   "mimetype": "text/x-python",
   "name": "python",
   "nbconvert_exporter": "python",
   "pygments_lexer": "ipython3",
   "version": "3.12.4"
  }
 },
 "nbformat": 4,
 "nbformat_minor": 5
}
